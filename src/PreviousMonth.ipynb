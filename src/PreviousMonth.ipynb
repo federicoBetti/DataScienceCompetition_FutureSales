{
 "cells": [
  {
   "cell_type": "code",
   "execution_count": 1,
   "id": "voluntary-screw",
   "metadata": {
    "pycharm": {
     "is_executing": false
    }
   },
   "outputs": [],
   "source": [
    "import pandas as pd\n",
    "import numpy as np\n",
    "import os\n",
    "import matplotlib.pyplot as plt\n",
    "from src.utils.submission import createSubmissionFile\n",
    "%matplotlib inline \n"
   ]
  },
  {
   "cell_type": "code",
   "execution_count": 22,
   "id": "rolled-donna",
   "metadata": {
    "pycharm": {
     "is_executing": false
    }
   },
   "outputs": [],
   "source": [
    "DATA_FOLDER = '../data/'\n",
    "CUSTOM_DATA_FOLDER = '../data_custom/'\n",
    "SUBMISSION_FOLDER = \"../submissions/\""
   ]
  },
  {
   "cell_type": "code",
   "execution_count": null,
   "outputs": [],
   "source": [
    "transactions    = pd.read_csv(os.path.join(os.getcwd(), DATA_FOLDER, 'sales_train_v2.csv'))\n",
    "items           = pd.read_csv(os.path.join(os.getcwd(), DATA_FOLDER, 'items.csv'))\n",
    "item_categories = pd.read_csv(os.path.join(os.getcwd(), DATA_FOLDER, 'item_categories.csv'))\n",
    "shops           = pd.read_csv(os.path.join(os.getcwd(), DATA_FOLDER, 'shops.csv'))\n",
    "test            = pd.read_csv(os.path.join(os.getcwd(), DATA_FOLDER, 'test.csv'))"
   ],
   "metadata": {
    "collapsed": false,
    "pycharm": {
     "name": "#%%\n"
    }
   }
  },
  {
   "cell_type": "code",
   "execution_count": 4,
   "id": "geological-bennett",
   "metadata": {
    "pycharm": {
     "is_executing": false
    }
   },
   "outputs": [],
   "source": [
    "transactions['month'] = transactions.date.apply(lambda x: int(x.split(\".\")[1]))\n",
    "transactions['day'] = transactions.date.apply(lambda x: int(x.split(\".\")[0]))\n",
    "transactions['year'] = transactions.date.apply(lambda x: int(x.split(\".\")[2]))\n",
    "transactions['day_revenue'] = transactions.item_price * transactions.item_cnt_day"
   ]
  },
  {
   "cell_type": "code",
   "execution_count": 27,
   "id": "announced-connectivity",
   "metadata": {
    "pycharm": {
     "is_executing": false
    }
   },
   "outputs": [
    {
     "name": "stdout",
     "text": [
      "<class 'pandas.core.frame.DataFrame'>\n",
      "RangeIndex: 2935849 entries, 0 to 2935848\n",
      "Data columns (total 10 columns):\n",
      " #   Column          Dtype  \n",
      "---  ------          -----  \n",
      " 0   date            object \n",
      " 1   date_block_num  int64  \n",
      " 2   shop_id         int64  \n",
      " 3   item_id         int64  \n",
      " 4   item_price      float64\n",
      " 5   item_cnt_day    float64\n",
      " 6   month           int64  \n",
      " 7   day             int64  \n",
      " 8   year            int64  \n",
      " 9   day_revenue     float64\n",
      "dtypes: float64(3), int64(6), object(1)\n",
      "memory usage: 224.0+ MB\n"
     ],
     "output_type": "stream"
    }
   ],
   "source": [
    "transactions.info()\n",
    "transactions.to_csv(os.path.join(os.getcwd(), CUSTOM_DATA_FOLDER, 'sales_train_v2.csv'), index=False)"
   ]
  },
  {
   "cell_type": "code",
   "execution_count": 19,
   "outputs": [
    {
     "data": {
      "text/plain": "array([ 5,  4,  6,  3,  2,  7, 10, 12, 28, 31, 26, 25, 22, 24, 21, 15, 16,\n       18, 14, 19, 42, 50, 49, 53, 52, 47, 48, 57, 58, 59, 55, 56, 36, 37,\n       35, 38, 34, 46, 41, 44, 39, 45], dtype=int64)"
     },
     "metadata": {},
     "output_type": "execute_result",
     "execution_count": 19
    }
   ],
   "source": [
    "test.shop_id.unique()"
   ],
   "metadata": {
    "collapsed": false,
    "pycharm": {
     "name": "#%%\n",
     "is_executing": false
    }
   }
  },
  {
   "cell_type": "code",
   "execution_count": 6,
   "id": "electronic-dressing",
   "metadata": {
    "pycharm": {
     "is_executing": false
    }
   },
   "outputs": [],
   "source": [
    "month_sold = transactions.groupby([\"date_block_num\", \"shop_id\", \"item_id\"]).item_cnt_day.sum().to_frame().reset_index()"
   ]
  },
  {
   "cell_type": "code",
   "execution_count": 26,
   "id": "hybrid-generation",
   "metadata": {
    "pycharm": {
     "is_executing": false
    }
   },
   "outputs": [],
   "source": [
    "month_sold = month_sold.rename(columns = {\"item_cnt_day\": \"item_cnt_month\"})\n",
    "month_sold.to_csv(os.path.join(os.getcwd(), CUSTOM_DATA_FOLDER, 'month_sold_train.csv'), index=False)"
   ]
  },
  {
   "cell_type": "code",
   "execution_count": 28,
   "id": "increasing-planning",
   "metadata": {
    "scrolled": true,
    "pycharm": {
     "is_executing": false
    }
   },
   "outputs": [],
   "source": [
    "last_month = 33\n",
    "last_month_sold = month_sold[month_sold.date_block_num == last_month]\n",
    "last_month_sold.to_csv(os.path.join(os.getcwd(), CUSTOM_DATA_FOLDER, 'last_month_sold_train.csv'), index=False)"
   ]
  },
  {
   "cell_type": "code",
   "execution_count": 9,
   "id": "settled-empire",
   "metadata": {
    "pycharm": {
     "is_executing": false
    }
   },
   "outputs": [],
   "source": [
    "merged_result = pd.merge(test, last_month_sold, \"left\", on=[\"shop_id\", \"item_id\"])"
   ]
  },
  {
   "cell_type": "code",
   "execution_count": 10,
   "id": "negative-moscow",
   "metadata": {
    "pycharm": {
     "is_executing": false
    }
   },
   "outputs": [],
   "source": [
    "merged_result = merged_result.fillna(0)"
   ]
  },
  {
   "cell_type": "code",
   "execution_count": 11,
   "id": "approved-rider",
   "metadata": {
    "pycharm": {
     "is_executing": false
    }
   },
   "outputs": [
    {
     "data": {
      "text/plain": "   ID  shop_id  item_id  date_block_num  item_cnt_month\n0   0        5     5037             0.0             0.0\n1   1        5     5320             0.0             0.0\n2   2        5     5233            33.0             1.0\n3   3        5     5232             0.0             0.0\n4   4        5     5268             0.0             0.0",
      "text/html": "<div>\n<style scoped>\n    .dataframe tbody tr th:only-of-type {\n        vertical-align: middle;\n    }\n\n    .dataframe tbody tr th {\n        vertical-align: top;\n    }\n\n    .dataframe thead th {\n        text-align: right;\n    }\n</style>\n<table border=\"1\" class=\"dataframe\">\n  <thead>\n    <tr style=\"text-align: right;\">\n      <th></th>\n      <th>ID</th>\n      <th>shop_id</th>\n      <th>item_id</th>\n      <th>date_block_num</th>\n      <th>item_cnt_month</th>\n    </tr>\n  </thead>\n  <tbody>\n    <tr>\n      <th>0</th>\n      <td>0</td>\n      <td>5</td>\n      <td>5037</td>\n      <td>0.0</td>\n      <td>0.0</td>\n    </tr>\n    <tr>\n      <th>1</th>\n      <td>1</td>\n      <td>5</td>\n      <td>5320</td>\n      <td>0.0</td>\n      <td>0.0</td>\n    </tr>\n    <tr>\n      <th>2</th>\n      <td>2</td>\n      <td>5</td>\n      <td>5233</td>\n      <td>33.0</td>\n      <td>1.0</td>\n    </tr>\n    <tr>\n      <th>3</th>\n      <td>3</td>\n      <td>5</td>\n      <td>5232</td>\n      <td>0.0</td>\n      <td>0.0</td>\n    </tr>\n    <tr>\n      <th>4</th>\n      <td>4</td>\n      <td>5</td>\n      <td>5268</td>\n      <td>0.0</td>\n      <td>0.0</td>\n    </tr>\n  </tbody>\n</table>\n</div>"
     },
     "metadata": {},
     "output_type": "execute_result",
     "execution_count": 11
    }
   ],
   "source": [
    "merged_result.head()"
   ]
  },
  {
   "cell_type": "code",
   "execution_count": 12,
   "id": "cosmetic-steering",
   "metadata": {
    "pycharm": {
     "is_executing": false
    }
   },
   "outputs": [
    {
     "data": {
      "text/plain": "            ID  shop_id  item_id  date_block_num  item_cnt_month\n460        460        5    20949            33.0            43.0\n5374      5374        4    17717            33.0            25.0\n5560      5560        4    20949            33.0            98.0\n10333    10333        6    10201            33.0            78.0\n10352    10352        6    10202            33.0            35.0\n...        ...      ...      ...             ...             ...\n205331  205331       39    21811            33.0            46.0\n205490  205490       39    17270            33.0            34.0\n209233  209233       45    10201            33.0            26.0\n209252  209252       45    10202            33.0            22.0\n209560  209560       45    20949            33.0            28.0\n\n[185 rows x 5 columns]",
      "text/html": "<div>\n<style scoped>\n    .dataframe tbody tr th:only-of-type {\n        vertical-align: middle;\n    }\n\n    .dataframe tbody tr th {\n        vertical-align: top;\n    }\n\n    .dataframe thead th {\n        text-align: right;\n    }\n</style>\n<table border=\"1\" class=\"dataframe\">\n  <thead>\n    <tr style=\"text-align: right;\">\n      <th></th>\n      <th>ID</th>\n      <th>shop_id</th>\n      <th>item_id</th>\n      <th>date_block_num</th>\n      <th>item_cnt_month</th>\n    </tr>\n  </thead>\n  <tbody>\n    <tr>\n      <th>460</th>\n      <td>460</td>\n      <td>5</td>\n      <td>20949</td>\n      <td>33.0</td>\n      <td>43.0</td>\n    </tr>\n    <tr>\n      <th>5374</th>\n      <td>5374</td>\n      <td>4</td>\n      <td>17717</td>\n      <td>33.0</td>\n      <td>25.0</td>\n    </tr>\n    <tr>\n      <th>5560</th>\n      <td>5560</td>\n      <td>4</td>\n      <td>20949</td>\n      <td>33.0</td>\n      <td>98.0</td>\n    </tr>\n    <tr>\n      <th>10333</th>\n      <td>10333</td>\n      <td>6</td>\n      <td>10201</td>\n      <td>33.0</td>\n      <td>78.0</td>\n    </tr>\n    <tr>\n      <th>10352</th>\n      <td>10352</td>\n      <td>6</td>\n      <td>10202</td>\n      <td>33.0</td>\n      <td>35.0</td>\n    </tr>\n    <tr>\n      <th>...</th>\n      <td>...</td>\n      <td>...</td>\n      <td>...</td>\n      <td>...</td>\n      <td>...</td>\n    </tr>\n    <tr>\n      <th>205331</th>\n      <td>205331</td>\n      <td>39</td>\n      <td>21811</td>\n      <td>33.0</td>\n      <td>46.0</td>\n    </tr>\n    <tr>\n      <th>205490</th>\n      <td>205490</td>\n      <td>39</td>\n      <td>17270</td>\n      <td>33.0</td>\n      <td>34.0</td>\n    </tr>\n    <tr>\n      <th>209233</th>\n      <td>209233</td>\n      <td>45</td>\n      <td>10201</td>\n      <td>33.0</td>\n      <td>26.0</td>\n    </tr>\n    <tr>\n      <th>209252</th>\n      <td>209252</td>\n      <td>45</td>\n      <td>10202</td>\n      <td>33.0</td>\n      <td>22.0</td>\n    </tr>\n    <tr>\n      <th>209560</th>\n      <td>209560</td>\n      <td>45</td>\n      <td>20949</td>\n      <td>33.0</td>\n      <td>28.0</td>\n    </tr>\n  </tbody>\n</table>\n<p>185 rows × 5 columns</p>\n</div>"
     },
     "metadata": {},
     "output_type": "execute_result",
     "execution_count": 12
    }
   ],
   "source": [
    "merged_result[merged_result.item_cnt_month > 20]"
   ]
  },
  {
   "cell_type": "code",
   "execution_count": 13,
   "id": "judicial-lindsay",
   "metadata": {
    "scrolled": true,
    "pycharm": {
     "is_executing": false
    }
   },
   "outputs": [],
   "source": [
    "createSubmissionFile(merged_result, \"last_month_or_0.csv\")"
   ]
  },
  {
   "cell_type": "code",
   "execution_count": 16,
   "id": "nominated-shift",
   "metadata": {
    "pycharm": {
     "is_executing": false
    }
   },
   "outputs": [],
   "source": [
    "last_year_sold = month_sold[month_sold.date_block_num == (last_month-11)]\n",
    "merged_result_last_year = pd.merge(test, last_year_sold, \"left\", on=[\"shop_id\", \"item_id\"])\n",
    "merged_result_last_year = merged_result_last_year.fillna(0)\n",
    "createSubmissionFile(merged_result_last_year, \"last_year_same_month_or_0.csv\")"
   ]
  },
  {
   "cell_type": "code",
   "execution_count": 29,
   "outputs": [
    {
     "data": {
      "text/plain": "            ID  shop_id  item_id  date_block_num  item_cnt_month\n0            0        5     5037            22.0             1.0\n1            1        5     5320             0.0             0.0\n2            2        5     5233             0.0             0.0\n3            3        5     5232             0.0             0.0\n4            4        5     5268             0.0             0.0\n...        ...      ...      ...             ...             ...\n214195  214195       45    18454             0.0             0.0\n214196  214196       45    16188             0.0             0.0\n214197  214197       45    15757             0.0             0.0\n214198  214198       45    19648             0.0             0.0\n214199  214199       45      969             0.0             0.0\n\n[214200 rows x 5 columns]",
      "text/html": "<div>\n<style scoped>\n    .dataframe tbody tr th:only-of-type {\n        vertical-align: middle;\n    }\n\n    .dataframe tbody tr th {\n        vertical-align: top;\n    }\n\n    .dataframe thead th {\n        text-align: right;\n    }\n</style>\n<table border=\"1\" class=\"dataframe\">\n  <thead>\n    <tr style=\"text-align: right;\">\n      <th></th>\n      <th>ID</th>\n      <th>shop_id</th>\n      <th>item_id</th>\n      <th>date_block_num</th>\n      <th>item_cnt_month</th>\n    </tr>\n  </thead>\n  <tbody>\n    <tr>\n      <th>0</th>\n      <td>0</td>\n      <td>5</td>\n      <td>5037</td>\n      <td>22.0</td>\n      <td>1.0</td>\n    </tr>\n    <tr>\n      <th>1</th>\n      <td>1</td>\n      <td>5</td>\n      <td>5320</td>\n      <td>0.0</td>\n      <td>0.0</td>\n    </tr>\n    <tr>\n      <th>2</th>\n      <td>2</td>\n      <td>5</td>\n      <td>5233</td>\n      <td>0.0</td>\n      <td>0.0</td>\n    </tr>\n    <tr>\n      <th>3</th>\n      <td>3</td>\n      <td>5</td>\n      <td>5232</td>\n      <td>0.0</td>\n      <td>0.0</td>\n    </tr>\n    <tr>\n      <th>4</th>\n      <td>4</td>\n      <td>5</td>\n      <td>5268</td>\n      <td>0.0</td>\n      <td>0.0</td>\n    </tr>\n    <tr>\n      <th>...</th>\n      <td>...</td>\n      <td>...</td>\n      <td>...</td>\n      <td>...</td>\n      <td>...</td>\n    </tr>\n    <tr>\n      <th>214195</th>\n      <td>214195</td>\n      <td>45</td>\n      <td>18454</td>\n      <td>0.0</td>\n      <td>0.0</td>\n    </tr>\n    <tr>\n      <th>214196</th>\n      <td>214196</td>\n      <td>45</td>\n      <td>16188</td>\n      <td>0.0</td>\n      <td>0.0</td>\n    </tr>\n    <tr>\n      <th>214197</th>\n      <td>214197</td>\n      <td>45</td>\n      <td>15757</td>\n      <td>0.0</td>\n      <td>0.0</td>\n    </tr>\n    <tr>\n      <th>214198</th>\n      <td>214198</td>\n      <td>45</td>\n      <td>19648</td>\n      <td>0.0</td>\n      <td>0.0</td>\n    </tr>\n    <tr>\n      <th>214199</th>\n      <td>214199</td>\n      <td>45</td>\n      <td>969</td>\n      <td>0.0</td>\n      <td>0.0</td>\n    </tr>\n  </tbody>\n</table>\n<p>214200 rows × 5 columns</p>\n</div>"
     },
     "metadata": {},
     "output_type": "execute_result",
     "execution_count": 29
    }
   ],
   "source": [
    "\n",
    "merged_result_last_year"
   ],
   "metadata": {
    "collapsed": false,
    "pycharm": {
     "name": "#%%\n",
     "is_executing": false
    }
   }
  }
 ],
 "metadata": {
  "kernelspec": {
   "name": "python3",
   "language": "python",
   "display_name": "Python 3"
  },
  "language_info": {
   "codemirror_mode": {
    "name": "ipython",
    "version": 3
   },
   "file_extension": ".py",
   "mimetype": "text/x-python",
   "name": "python",
   "nbconvert_exporter": "python",
   "pygments_lexer": "ipython3",
   "version": "3.8.5"
  },
  "pycharm": {
   "stem_cell": {
    "cell_type": "raw",
    "source": [],
    "metadata": {
     "collapsed": false
    }
   }
  }
 },
 "nbformat": 4,
 "nbformat_minor": 5
}