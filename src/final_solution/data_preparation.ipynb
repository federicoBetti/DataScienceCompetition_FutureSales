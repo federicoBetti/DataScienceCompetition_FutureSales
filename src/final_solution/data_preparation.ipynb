{
 "cells": [
  {
   "cell_type": "markdown",
   "source": [
    "# Load libraries"
   ],
   "metadata": {
    "collapsed": false
   }
  },
  {
   "cell_type": "code",
   "execution_count": 1,
   "metadata": {
    "collapsed": true,
    "pycharm": {
     "is_executing": false
    }
   },
   "outputs": [
    {
     "name": "stderr",
     "text": [
      "[nltk_data] Downloading package stopwords to\n",
      "[nltk_data]     C:\\Users\\feder\\AppData\\Roaming\\nltk_data...\n",
      "[nltk_data]   Package stopwords is already up-to-date!\n",
      "[nltk_data] Downloading package punkt to\n",
      "[nltk_data]     C:\\Users\\feder\\AppData\\Roaming\\nltk_data...\n",
      "[nltk_data]   Package punkt is already up-to-date!\n"
     ],
     "output_type": "stream"
    }
   ],
   "source": [
    "from typing import List\n",
    "import pandas as pd\n",
    "import os\n",
    "import numpy as np\n",
    "from itertools import product\n",
    "from collections import Counter\n",
    "from sklearn.cluster import KMeans\n",
    "from sklearn.preprocessing import LabelEncoder\n",
    "from src.utils.memory_managment import downcast\n",
    "le = LabelEncoder()\n",
    "import category_encoders as ce\n",
    "import warnings\n",
    "import nltk\n",
    "nltk.download('stopwords')\n",
    "nltk.download('punkt')\n",
    "from gensim.models.doc2vec import Doc2Vec, TaggedDocument\n",
    "\n",
    "\n",
    "pd.set_option('display.max_rows', 400)\n",
    "pd.set_option('display.max_columns', 160)\n",
    "pd.set_option('display.max_colwidth', 40)\n",
    "warnings.filterwarnings(\"ignore\")"
   ]
  },
  {
   "cell_type": "markdown",
   "source": [
    "# Load Data"
   ],
   "metadata": {
    "collapsed": false
   }
  },
  {
   "cell_type": "code",
   "execution_count": 2,
   "outputs": [],
   "source": [
    "DATA_FOLDER = '../../data/'\n",
    "ENGLISH_DATA_FOLDER = '../../data_english/'\n",
    "CUSTOM_DATA_FOLDER = '../../data_custom/'\n",
    "SUBMISSION_FOLDER = \"../../submissions/\""
   ],
   "metadata": {
    "collapsed": false,
    "pycharm": {
     "name": "#%%\n",
     "is_executing": false
    }
   }
  },
  {
   "cell_type": "code",
   "execution_count": 3,
   "outputs": [],
   "source": [
    "transactions    = pd.read_csv(os.path.join(os.getcwd(), DATA_FOLDER, 'sales_train_v2.csv'))"
   ],
   "metadata": {
    "collapsed": false,
    "pycharm": {
     "name": "#%%\n",
     "is_executing": false
    }
   }
  },
  {
   "cell_type": "code",
   "execution_count": 4,
   "outputs": [],
   "source": [
    "items           = pd.read_csv(os.path.join(os.getcwd(), ENGLISH_DATA_FOLDER, 'items.csv'))\n",
    "categories      = pd.read_csv(os.path.join(os.getcwd(), ENGLISH_DATA_FOLDER, 'categories.csv'))\n",
    "test            = pd.read_csv(os.path.join(os.getcwd(), DATA_FOLDER, 'test.csv'))"
   ],
   "metadata": {
    "collapsed": false,
    "pycharm": {
     "name": "#%%\n",
     "is_executing": false
    }
   }
  },
  {
   "cell_type": "code",
   "execution_count": 5,
   "outputs": [],
   "source": [
    "shops           = pd.read_csv(os.path.join(os.getcwd(), ENGLISH_DATA_FOLDER, 'shops.csv'))"
   ],
   "metadata": {
    "collapsed": false,
    "pycharm": {
     "name": "#%%\n",
     "is_executing": false
    }
   }
  },
  {
   "cell_type": "markdown",
   "source": [
    "## Process categories"
   ],
   "metadata": {
    "collapsed": false,
    "pycharm": {
     "name": "#%% md\n"
    }
   }
  },
  {
   "cell_type": "code",
   "execution_count": 6,
   "outputs": [
    {
     "data": {
      "text/plain": "                category_name  category_id\n0  PC - Headsets / Headphones            0\n1           Accessories - PS2            1\n2           Accessories - PS3            2\n3           Accessories - PS4            3\n4           Accessories - PSP            4\n5        Accessories - PSVita            5\n6      Accessories - XBOX 360            6\n7      Accessories - XBOX ONE            7\n8           Tickets (Digital)            8\n9           Delivery of goods            9",
      "text/html": "<div>\n<style scoped>\n    .dataframe tbody tr th:only-of-type {\n        vertical-align: middle;\n    }\n\n    .dataframe tbody tr th {\n        vertical-align: top;\n    }\n\n    .dataframe thead th {\n        text-align: right;\n    }\n</style>\n<table border=\"1\" class=\"dataframe\">\n  <thead>\n    <tr style=\"text-align: right;\">\n      <th></th>\n      <th>category_name</th>\n      <th>category_id</th>\n    </tr>\n  </thead>\n  <tbody>\n    <tr>\n      <th>0</th>\n      <td>PC - Headsets / Headphones</td>\n      <td>0</td>\n    </tr>\n    <tr>\n      <th>1</th>\n      <td>Accessories - PS2</td>\n      <td>1</td>\n    </tr>\n    <tr>\n      <th>2</th>\n      <td>Accessories - PS3</td>\n      <td>2</td>\n    </tr>\n    <tr>\n      <th>3</th>\n      <td>Accessories - PS4</td>\n      <td>3</td>\n    </tr>\n    <tr>\n      <th>4</th>\n      <td>Accessories - PSP</td>\n      <td>4</td>\n    </tr>\n    <tr>\n      <th>5</th>\n      <td>Accessories - PSVita</td>\n      <td>5</td>\n    </tr>\n    <tr>\n      <th>6</th>\n      <td>Accessories - XBOX 360</td>\n      <td>6</td>\n    </tr>\n    <tr>\n      <th>7</th>\n      <td>Accessories - XBOX ONE</td>\n      <td>7</td>\n    </tr>\n    <tr>\n      <th>8</th>\n      <td>Tickets (Digital)</td>\n      <td>8</td>\n    </tr>\n    <tr>\n      <th>9</th>\n      <td>Delivery of goods</td>\n      <td>9</td>\n    </tr>\n  </tbody>\n</table>\n</div>"
     },
     "metadata": {},
     "output_type": "execute_result",
     "execution_count": 6
    }
   ],
   "source": [
    "categories.head(10)"
   ],
   "metadata": {
    "collapsed": false,
    "pycharm": {
     "name": "#%%\n",
     "is_executing": false
    }
   }
  },
  {
   "cell_type": "markdown",
   "source": [
    "looking at the categories it is clear the pattern \"main category - subcategory\". It should be extracted.\n"
   ],
   "metadata": {
    "collapsed": false,
    "pycharm": {
     "name": "#%% md\n"
    }
   }
  },
  {
   "cell_type": "code",
   "execution_count": 7,
   "outputs": [],
   "source": [
    "categories[\"main_category\"] = categories[\"category_name\"].apply(lambda x: x.split(\"-\")[0].strip())\n",
    "categories[\"main_category_id\"] = le.fit_transform(categories[\"main_category\"])"
   ],
   "metadata": {
    "collapsed": false,
    "pycharm": {
     "name": "#%%\n",
     "is_executing": false
    }
   }
  },
  {
   "cell_type": "markdown",
   "source": [
    "## Process Items"
   ],
   "metadata": {
    "collapsed": false,
    "pycharm": {
     "name": "#%% md\n"
    }
   }
  },
  {
   "cell_type": "code",
   "execution_count": 8,
   "outputs": [],
   "source": [
    "from nltk.tokenize import word_tokenize\n",
    "import string\n",
    "from nltk.corpus import stopwords\n",
    "stop_words = set(stopwords.words('english'))\n",
    "\n",
    "def process_text(s: str) -> str:\n",
    "    tokens = word_tokenize(s)\n",
    "    # convert to lower case\n",
    "    tokens = [w.lower() for w in tokens]\n",
    "    # remove punctuation from each word\n",
    "    table = str.maketrans('', '', string.punctuation)\n",
    "    stripped = [w.translate(table) for w in tokens]\n",
    "    # remove remaining tokens that are not alphabetic\n",
    "    words = [word for word in stripped if word.isalpha()]\n",
    "    # filter out stop words\n",
    "    words = [w for w in words if not w in stop_words]\n",
    "    return \" \".join(words)"
   ],
   "metadata": {
    "collapsed": false,
    "pycharm": {
     "name": "#%%\n",
     "is_executing": false
    }
   }
  },
  {
   "cell_type": "code",
   "execution_count": 9,
   "outputs": [],
   "source": [
    "processed_text_series = items[\"item_name\"].apply(process_text)"
   ],
   "metadata": {
    "collapsed": false,
    "pycharm": {
     "name": "#%%\n",
     "is_executing": false
    }
   }
  },
  {
   "cell_type": "code",
   "execution_count": 10,
   "outputs": [],
   "source": [
    "tagged_data = [TaggedDocument(d, [i]) for i, d in enumerate(processed_text_series.values)]\n",
    "vector_size: int = 10\n",
    "model = Doc2Vec(tagged_data, vector_size = vector_size, window = 2, min_count = 1, epochs = 100)"
   ],
   "metadata": {
    "collapsed": false,
    "pycharm": {
     "name": "#%%\n",
     "is_executing": false
    }
   }
  },
  {
   "cell_type": "code",
   "execution_count": 11,
   "outputs": [],
   "source": [
    "columns_vector_name = [\"item_name_vector_{}\".format(i) for i in range(vector_size)]\n",
    "items[columns_vector_name] = pd.DataFrame(processed_text_series.apply(lambda s: model.infer_vector(word_tokenize(s))).tolist())\n",
    "del model\n",
    "del tagged_data\n",
    "del processed_text_series"
   ],
   "metadata": {
    "collapsed": false,
    "pycharm": {
     "name": "#%%\n",
     "is_executing": false
    }
   }
  },
  {
   "cell_type": "code",
   "execution_count": 12,
   "outputs": [
    {
     "data": {
      "text/plain": "       item_id  category_id                                item_name  \\\n12318    10594           43  Gippenreiter Yu.B. Introduction to g...   \n2364     14029           40      BEST HISTORICAL BLOCKBUSTERS (2DVD)   \n18431     7832           22  WipEout 2048 [PS Vita, Russian version]   \n17756    10216           28  The Witcher. Gift Edition [PC, Jewel...   \n11847     8853           57               BI-2 CD 2 (mp3-CD) (Jewel)   \n3439     17336           40        GHOST (ANGEL WATERFALL AS A GIFT)   \n19662    15268           63     Soft toy Dragons Large plush Bezubik   \n11533    12668           41  COLLECTION OF DE NIRO (CASINO / SLEE...   \n20627    16163           65  Board Game Munchkin Secret Mine, art...   \n7990      3869           19  Hitman Absolution [PS3, Russian vers...   \n\n       item_name_vector_0  item_name_vector_1  item_name_vector_2  \\\n12318           -0.049158           -0.018023           -0.018866   \n2364             0.022326           -0.023248           -0.046411   \n18431            0.047710           -0.038287            0.042359   \n17756            0.035785            0.034584            0.002797   \n11847           -0.040241            0.043671            0.039836   \n3439            -0.005664           -0.041995            0.022874   \n19662            0.017129            0.048479           -0.007098   \n11533            0.044478           -0.000681            0.021093   \n20627            0.037379            0.047699           -0.016147   \n7990             0.041819            0.041644           -0.028456   \n\n       item_name_vector_3  item_name_vector_4  item_name_vector_5  \\\n12318           -0.012253           -0.040055            0.022418   \n2364            -0.008843            0.011552            0.033437   \n18431           -0.048915           -0.024975           -0.046228   \n17756            0.027241           -0.017777           -0.041783   \n11847           -0.023263            0.035877           -0.037120   \n3439            -0.002266            0.048207           -0.008125   \n19662            0.001414           -0.000431           -0.021547   \n11533            0.029773            0.048869            0.019271   \n20627           -0.027883           -0.047452            0.021445   \n7990            -0.038603           -0.013641            0.020857   \n\n       item_name_vector_6  item_name_vector_7  item_name_vector_8  \\\n12318            0.024388            0.002456           -0.021710   \n2364            -0.019132           -0.045087           -0.023020   \n18431            0.020477           -0.014994            0.046253   \n17756            0.034200            0.045799            0.034319   \n11847            0.045179            0.013408            0.029222   \n3439             0.043937           -0.012842           -0.031235   \n19662            0.036118            0.025165            0.025426   \n11533           -0.010663            0.019929            0.043921   \n20627            0.014962           -0.043472           -0.041222   \n7990             0.000905            0.028626            0.049988   \n\n       item_name_vector_9                    category_name main_category  \\\n12318           -0.046354               Books - Audiobooks         Books   \n2364            -0.043262                     Cinema - DVD        Cinema   \n18431           -0.037153                   Games - PSVita         Games   \n17756            0.007924   PC Games - Additional Editions      PC Games   \n11847            0.014668                      Music - MP3         Music   \n3439            -0.032194                     Cinema - DVD        Cinema   \n19662            0.023444                Gifts - Soft toys         Gifts   \n11533           -0.012690             Cinema - Collector's        Cinema   \n20627           -0.015591    Gifts - Board games (compact)         Gifts   \n7990             0.048395                      Games - PS3         Games   \n\n       main_category_id  \n12318                 5  \n2364                  6  \n18431                 9  \n17756                14  \n11847                12  \n3439                  6  \n19662                10  \n11533                 6  \n20627                10  \n7990                  9  ",
      "text/html": "<div>\n<style scoped>\n    .dataframe tbody tr th:only-of-type {\n        vertical-align: middle;\n    }\n\n    .dataframe tbody tr th {\n        vertical-align: top;\n    }\n\n    .dataframe thead th {\n        text-align: right;\n    }\n</style>\n<table border=\"1\" class=\"dataframe\">\n  <thead>\n    <tr style=\"text-align: right;\">\n      <th></th>\n      <th>item_id</th>\n      <th>category_id</th>\n      <th>item_name</th>\n      <th>item_name_vector_0</th>\n      <th>item_name_vector_1</th>\n      <th>item_name_vector_2</th>\n      <th>item_name_vector_3</th>\n      <th>item_name_vector_4</th>\n      <th>item_name_vector_5</th>\n      <th>item_name_vector_6</th>\n      <th>item_name_vector_7</th>\n      <th>item_name_vector_8</th>\n      <th>item_name_vector_9</th>\n      <th>category_name</th>\n      <th>main_category</th>\n      <th>main_category_id</th>\n    </tr>\n  </thead>\n  <tbody>\n    <tr>\n      <th>12318</th>\n      <td>10594</td>\n      <td>43</td>\n      <td>Gippenreiter Yu.B. Introduction to g...</td>\n      <td>-0.049158</td>\n      <td>-0.018023</td>\n      <td>-0.018866</td>\n      <td>-0.012253</td>\n      <td>-0.040055</td>\n      <td>0.022418</td>\n      <td>0.024388</td>\n      <td>0.002456</td>\n      <td>-0.021710</td>\n      <td>-0.046354</td>\n      <td>Books - Audiobooks</td>\n      <td>Books</td>\n      <td>5</td>\n    </tr>\n    <tr>\n      <th>2364</th>\n      <td>14029</td>\n      <td>40</td>\n      <td>BEST HISTORICAL BLOCKBUSTERS (2DVD)</td>\n      <td>0.022326</td>\n      <td>-0.023248</td>\n      <td>-0.046411</td>\n      <td>-0.008843</td>\n      <td>0.011552</td>\n      <td>0.033437</td>\n      <td>-0.019132</td>\n      <td>-0.045087</td>\n      <td>-0.023020</td>\n      <td>-0.043262</td>\n      <td>Cinema - DVD</td>\n      <td>Cinema</td>\n      <td>6</td>\n    </tr>\n    <tr>\n      <th>18431</th>\n      <td>7832</td>\n      <td>22</td>\n      <td>WipEout 2048 [PS Vita, Russian version]</td>\n      <td>0.047710</td>\n      <td>-0.038287</td>\n      <td>0.042359</td>\n      <td>-0.048915</td>\n      <td>-0.024975</td>\n      <td>-0.046228</td>\n      <td>0.020477</td>\n      <td>-0.014994</td>\n      <td>0.046253</td>\n      <td>-0.037153</td>\n      <td>Games - PSVita</td>\n      <td>Games</td>\n      <td>9</td>\n    </tr>\n    <tr>\n      <th>17756</th>\n      <td>10216</td>\n      <td>28</td>\n      <td>The Witcher. Gift Edition [PC, Jewel...</td>\n      <td>0.035785</td>\n      <td>0.034584</td>\n      <td>0.002797</td>\n      <td>0.027241</td>\n      <td>-0.017777</td>\n      <td>-0.041783</td>\n      <td>0.034200</td>\n      <td>0.045799</td>\n      <td>0.034319</td>\n      <td>0.007924</td>\n      <td>PC Games - Additional Editions</td>\n      <td>PC Games</td>\n      <td>14</td>\n    </tr>\n    <tr>\n      <th>11847</th>\n      <td>8853</td>\n      <td>57</td>\n      <td>BI-2 CD 2 (mp3-CD) (Jewel)</td>\n      <td>-0.040241</td>\n      <td>0.043671</td>\n      <td>0.039836</td>\n      <td>-0.023263</td>\n      <td>0.035877</td>\n      <td>-0.037120</td>\n      <td>0.045179</td>\n      <td>0.013408</td>\n      <td>0.029222</td>\n      <td>0.014668</td>\n      <td>Music - MP3</td>\n      <td>Music</td>\n      <td>12</td>\n    </tr>\n    <tr>\n      <th>3439</th>\n      <td>17336</td>\n      <td>40</td>\n      <td>GHOST (ANGEL WATERFALL AS A GIFT)</td>\n      <td>-0.005664</td>\n      <td>-0.041995</td>\n      <td>0.022874</td>\n      <td>-0.002266</td>\n      <td>0.048207</td>\n      <td>-0.008125</td>\n      <td>0.043937</td>\n      <td>-0.012842</td>\n      <td>-0.031235</td>\n      <td>-0.032194</td>\n      <td>Cinema - DVD</td>\n      <td>Cinema</td>\n      <td>6</td>\n    </tr>\n    <tr>\n      <th>19662</th>\n      <td>15268</td>\n      <td>63</td>\n      <td>Soft toy Dragons Large plush Bezubik</td>\n      <td>0.017129</td>\n      <td>0.048479</td>\n      <td>-0.007098</td>\n      <td>0.001414</td>\n      <td>-0.000431</td>\n      <td>-0.021547</td>\n      <td>0.036118</td>\n      <td>0.025165</td>\n      <td>0.025426</td>\n      <td>0.023444</td>\n      <td>Gifts - Soft toys</td>\n      <td>Gifts</td>\n      <td>10</td>\n    </tr>\n    <tr>\n      <th>11533</th>\n      <td>12668</td>\n      <td>41</td>\n      <td>COLLECTION OF DE NIRO (CASINO / SLEE...</td>\n      <td>0.044478</td>\n      <td>-0.000681</td>\n      <td>0.021093</td>\n      <td>0.029773</td>\n      <td>0.048869</td>\n      <td>0.019271</td>\n      <td>-0.010663</td>\n      <td>0.019929</td>\n      <td>0.043921</td>\n      <td>-0.012690</td>\n      <td>Cinema - Collector's</td>\n      <td>Cinema</td>\n      <td>6</td>\n    </tr>\n    <tr>\n      <th>20627</th>\n      <td>16163</td>\n      <td>65</td>\n      <td>Board Game Munchkin Secret Mine, art...</td>\n      <td>0.037379</td>\n      <td>0.047699</td>\n      <td>-0.016147</td>\n      <td>-0.027883</td>\n      <td>-0.047452</td>\n      <td>0.021445</td>\n      <td>0.014962</td>\n      <td>-0.043472</td>\n      <td>-0.041222</td>\n      <td>-0.015591</td>\n      <td>Gifts - Board games (compact)</td>\n      <td>Gifts</td>\n      <td>10</td>\n    </tr>\n    <tr>\n      <th>7990</th>\n      <td>3869</td>\n      <td>19</td>\n      <td>Hitman Absolution [PS3, Russian vers...</td>\n      <td>0.041819</td>\n      <td>0.041644</td>\n      <td>-0.028456</td>\n      <td>-0.038603</td>\n      <td>-0.013641</td>\n      <td>0.020857</td>\n      <td>0.000905</td>\n      <td>0.028626</td>\n      <td>0.049988</td>\n      <td>0.048395</td>\n      <td>Games - PS3</td>\n      <td>Games</td>\n      <td>9</td>\n    </tr>\n  </tbody>\n</table>\n</div>"
     },
     "metadata": {},
     "output_type": "execute_result",
     "execution_count": 12
    }
   ],
   "source": [
    "items = items.merge(categories, on='category_id')\n",
    "items.sample(10)"
   ],
   "metadata": {
    "collapsed": false,
    "pycharm": {
     "name": "#%%\n",
     "is_executing": false
    }
   }
  },
  {
   "cell_type": "markdown",
   "source": [
    "Find possible duplicates in item id"
   ],
   "metadata": {
    "collapsed": false,
    "pycharm": {
     "name": "#%% md\n"
    }
   }
  },
  {
   "cell_type": "code",
   "execution_count": 13,
   "outputs": [],
   "source": [
    "duplicated_items = items[items.duplicated([\"item_name\", \"category_id\"], keep=False)]\n",
    "duplicated_items[\"in_test\"] = duplicated_items[\"item_id\"].isin(test[\"item_id\"].unique())\n",
    "duplicated_items = duplicated_items.groupby('item_name').agg({'item_id':['first','last'],'in_test':['first','last']})\n",
    "\n",
    "#if both item id's are in the test set do nothing\n",
    "duplicated_items = duplicated_items[(duplicated_items[('in_test', 'first')]==False) | (duplicated_items[('in_test', 'last')]==False)]\n",
    "#if only the first id is in the test set assign this id to both\n",
    "temp = duplicated_items[duplicated_items[('in_test', 'first')]==True]\n",
    "keep_first = dict(zip(temp[('item_id', 'last')], temp[('item_id',  'first')]))\n",
    "#if neither id or only the second id is in the test set, assign the second id to both\n",
    "temp = duplicated_items[duplicated_items[('in_test', 'first')]==False]\n",
    "keep_second = dict(zip(temp[('item_id', 'first')], temp[('item_id',  'last')]))\n",
    "item_map = {**keep_first, **keep_second}\n",
    "del temp\n",
    "del keep_first\n",
    "del keep_second\n",
    "del duplicated_items"
   ],
   "metadata": {
    "collapsed": false,
    "pycharm": {
     "name": "#%%\n",
     "is_executing": false
    }
   }
  },
  {
   "cell_type": "code",
   "execution_count": 14,
   "outputs": [
    {
     "data": {
      "text/plain": "{9802: 9767,\n 11689: 11688,\n 16628: 13804,\n 15708: 15698,\n 10840: 10841,\n 2037: 2038,\n 14537: 14539,\n 18933: 19135,\n 2968: 2970,\n 10791: 19240,\n 11604: 16716,\n 9921: 14050,\n 14044: 14045,\n 11794: 15793,\n 16309: 16314,\n 16495: 16509,\n 17202: 17203,\n 19465: 19475,\n 19579: 19581,\n 15700: 15709,\n 15660: 15673}"
     },
     "metadata": {},
     "output_type": "execute_result",
     "execution_count": 14
    }
   ],
   "source": [
    "item_map"
   ],
   "metadata": {
    "collapsed": false,
    "pycharm": {
     "name": "#%%\n",
     "is_executing": false
    }
   }
  },
  {
   "cell_type": "markdown",
   "source": [
    "## Transactions analysis\n"
   ],
   "metadata": {
    "collapsed": false,
    "pycharm": {
     "name": "#%% md\n"
    }
   }
  },
  {
   "cell_type": "code",
   "execution_count": 15,
   "outputs": [],
   "source": [
    "transactions = transactions\\\n",
    "    .query('0 < item_price < 50000 and 0 < item_cnt_day < 1001')\\\n",
    "    .replace({\n",
    "        'shop_id':{0:57, 1:58, 11:10}, #replacing obsolete shop id's\n",
    "        'item_id':item_map #fixing duplicate item id's  \n",
    "    })    "
   ],
   "metadata": {
    "collapsed": false,
    "pycharm": {
     "name": "#%%\n",
     "is_executing": false
    }
   }
  },
  {
   "cell_type": "code",
   "execution_count": 16,
   "outputs": [],
   "source": [
    "#removing shops which don't appear in the test set\n",
    "transactions = transactions[transactions['shop_id'].isin(test.shop_id.unique())]\n",
    "\n",
    "transactions['date'] = pd.to_datetime(transactions.date,format='%d.%m.%Y')\n",
    "transactions['year'] = transactions.date.dt.year\n",
    "\n",
    "# get percentage of sales of the shop in the specific month of the year\n",
    "sales_year = transactions.groupby([\"shop_id\", \"year\"]).agg({\"item_cnt_day\": \"sum\"}).rename(columns={'item_cnt_day':'item_cnt_year'})\n",
    "sales_month = transactions.groupby([\"shop_id\", \"date_block_num\"]).agg({\"item_cnt_day\": \"sum\", \"year\": \"first\"}).rename(columns={'item_cnt_day':'item_cnt_month'})\n",
    "sales = sales_month.join(sales_year, on=[\"shop_id\", \"year\"])\n",
    "sales[\"perc_sales_year_shop\"] = sales[\"item_cnt_month\"] / sales[\"item_cnt_year\"]\n",
    "sales.drop([\"item_cnt_month\", \"item_cnt_year\", \"year\"], axis=1, inplace=True)\n",
    "del sales_year\n",
    "del sales_month\n",
    "\n",
    "# get percentage of sales of a specific item in that month, considering all shops\n",
    "sales_year = transactions.groupby([\"item_id\", \"year\"]).agg({\"item_cnt_day\": \"sum\"}).rename(columns={'item_cnt_day':'item_cnt_year'})\n",
    "sales_month = transactions.groupby([\"item_id\", \"date_block_num\"]).agg({\"item_cnt_day\": \"sum\", \"year\": \"first\"}).rename(columns={'item_cnt_day':'item_cnt_month'})\n",
    "sales_item = sales_month.join(sales_year, on=[\"item_id\", \"year\"])\n",
    "sales_item[\"perc_sales_year_item\"] = sales_item[\"item_cnt_month\"] / sales_item[\"item_cnt_year\"]\n",
    "sales_item.drop([\"item_cnt_month\", \"item_cnt_year\", \"year\"], axis=1, inplace=True)\n",
    "del sales_year\n",
    "del sales_month\n"
   ],
   "metadata": {
    "collapsed": false,
    "pycharm": {
     "name": "#%%\n",
     "is_executing": false
    }
   }
  },
  {
   "cell_type": "code",
   "execution_count": 17,
   "outputs": [],
   "source": [
    "# add tot number of that specific items sold\n",
    "total_item_sold = transactions.groupby(\"item_id\").agg({\"item_cnt_day\": \"sum\"}).rename(columns={\"item_cnt_day\": \"total_item_sold\"})\n",
    "transactions = transactions.merge(total_item_sold, on=\"item_id\")\n",
    "del total_item_sold\n",
    "\n",
    "# add tot number of items sold in a shop\n",
    "total_item_sold_in_shop = transactions.groupby(\"shop_id\").agg({\"item_cnt_day\": \"sum\"}).rename(columns={\"item_cnt_day\": \"total_item_sold_in_shop\"})\n",
    "transactions = transactions.merge(total_item_sold_in_shop, on=\"shop_id\")\n",
    "del total_item_sold_in_shop\n",
    "\n",
    "#revenue is needed to accurately calculate prices after grouping\n",
    "transactions['revenue'] = transactions['item_cnt_day']*transactions['item_price']"
   ],
   "metadata": {
    "collapsed": false,
    "pycharm": {
     "name": "#%%\n",
     "is_executing": false
    }
   }
  },
  {
   "cell_type": "markdown",
   "source": [
    "Group by month and make a percentage of sells in the year"
   ],
   "metadata": {
    "collapsed": false,
    "pycharm": {
     "name": "#%% md\n"
    }
   }
  },
  {
   "cell_type": "code",
   "execution_count": 18,
   "outputs": [
    {
     "data": {
      "text/plain": "         date_block_num  shop_id  item_id  item_cnt_month  revenue  \\\n731796               16       59    12321             1.0    149.0   \n504187               11       22    15851             1.0    699.0   \n1224275              30        6    16937             1.0    499.0   \n1228742              30       47    11188             2.0    898.0   \n101342                2       45     7895             3.0   2397.0   \n\n         perc_sales_year_shop  perc_sales_year_item  \n731796               0.073112              0.061453  \n504187               0.097279              0.742424  \n1224275              0.080144              0.161290  \n1228742              0.087380              0.117647  \n101342               0.096021              0.073529  ",
      "text/html": "<div>\n<style scoped>\n    .dataframe tbody tr th:only-of-type {\n        vertical-align: middle;\n    }\n\n    .dataframe tbody tr th {\n        vertical-align: top;\n    }\n\n    .dataframe thead th {\n        text-align: right;\n    }\n</style>\n<table border=\"1\" class=\"dataframe\">\n  <thead>\n    <tr style=\"text-align: right;\">\n      <th></th>\n      <th>date_block_num</th>\n      <th>shop_id</th>\n      <th>item_id</th>\n      <th>item_cnt_month</th>\n      <th>revenue</th>\n      <th>perc_sales_year_shop</th>\n      <th>perc_sales_year_item</th>\n    </tr>\n  </thead>\n  <tbody>\n    <tr>\n      <th>731796</th>\n      <td>16</td>\n      <td>59</td>\n      <td>12321</td>\n      <td>1.0</td>\n      <td>149.0</td>\n      <td>0.073112</td>\n      <td>0.061453</td>\n    </tr>\n    <tr>\n      <th>504187</th>\n      <td>11</td>\n      <td>22</td>\n      <td>15851</td>\n      <td>1.0</td>\n      <td>699.0</td>\n      <td>0.097279</td>\n      <td>0.742424</td>\n    </tr>\n    <tr>\n      <th>1224275</th>\n      <td>30</td>\n      <td>6</td>\n      <td>16937</td>\n      <td>1.0</td>\n      <td>499.0</td>\n      <td>0.080144</td>\n      <td>0.161290</td>\n    </tr>\n    <tr>\n      <th>1228742</th>\n      <td>30</td>\n      <td>47</td>\n      <td>11188</td>\n      <td>2.0</td>\n      <td>898.0</td>\n      <td>0.087380</td>\n      <td>0.117647</td>\n    </tr>\n    <tr>\n      <th>101342</th>\n      <td>2</td>\n      <td>45</td>\n      <td>7895</td>\n      <td>3.0</td>\n      <td>2397.0</td>\n      <td>0.096021</td>\n      <td>0.073529</td>\n    </tr>\n  </tbody>\n</table>\n</div>"
     },
     "metadata": {},
     "output_type": "execute_result",
     "execution_count": 18
    }
   ],
   "source": [
    "transactions = (transactions\n",
    "     .groupby(['date_block_num', 'shop_id', 'item_id'])\n",
    "     .agg({\n",
    "         'item_cnt_day':'sum', \n",
    "         'revenue':'sum'\n",
    "     })\n",
    "     .reset_index()\n",
    "     .rename(columns={'item_cnt_day':'item_cnt_month'})\n",
    "     .merge(sales, on=[\"shop_id\", \"date_block_num\"])\n",
    "     .merge(sales_item, on=[\"item_id\", \"date_block_num\"])\n",
    ")\n",
    "\n",
    "del sales\n",
    "del sales_item\n",
    "transactions.sample(5)"
   ],
   "metadata": {
    "collapsed": false,
    "pycharm": {
     "name": "#%%\n",
     "is_executing": false
    }
   }
  },
  {
   "cell_type": "markdown",
   "source": [
    "## Creation of all_data dataframe"
   ],
   "metadata": {
    "collapsed": false,
    "pycharm": {
     "name": "#%% md\n"
    }
   }
  },
  {
   "cell_type": "code",
   "execution_count": 19,
   "outputs": [
    {
     "data": {
      "text/plain": "   shop_id  item_id  date_block_num\n0        2       27               0\n1        2       33               0\n2        2      317               0\n3        2      438               0\n4        2      471               0",
      "text/html": "<div>\n<style scoped>\n    .dataframe tbody tr th:only-of-type {\n        vertical-align: middle;\n    }\n\n    .dataframe tbody tr th {\n        vertical-align: top;\n    }\n\n    .dataframe thead th {\n        text-align: right;\n    }\n</style>\n<table border=\"1\" class=\"dataframe\">\n  <thead>\n    <tr style=\"text-align: right;\">\n      <th></th>\n      <th>shop_id</th>\n      <th>item_id</th>\n      <th>date_block_num</th>\n    </tr>\n  </thead>\n  <tbody>\n    <tr>\n      <th>0</th>\n      <td>2</td>\n      <td>27</td>\n      <td>0</td>\n    </tr>\n    <tr>\n      <th>1</th>\n      <td>2</td>\n      <td>33</td>\n      <td>0</td>\n    </tr>\n    <tr>\n      <th>2</th>\n      <td>2</td>\n      <td>317</td>\n      <td>0</td>\n    </tr>\n    <tr>\n      <th>3</th>\n      <td>2</td>\n      <td>438</td>\n      <td>0</td>\n    </tr>\n    <tr>\n      <th>4</th>\n      <td>2</td>\n      <td>471</td>\n      <td>0</td>\n    </tr>\n  </tbody>\n</table>\n</div>"
     },
     "metadata": {},
     "output_type": "execute_result",
     "execution_count": 19
    }
   ],
   "source": [
    "all_data = [] \n",
    "for block_num in transactions['date_block_num'].unique():\n",
    "    cur_shops = transactions.loc[transactions['date_block_num'] == block_num, 'shop_id'].unique()\n",
    "    cur_items = transactions.loc[transactions['date_block_num'] == block_num, 'item_id'].unique()\n",
    "    all_data.append(np.array(list(product(*[cur_shops, cur_items, [block_num]]))))\n",
    "\n",
    "all_data = pd.DataFrame(np.vstack(all_data), columns=['shop_id', 'item_id', 'date_block_num'])\n",
    "all_data.head()"
   ],
   "metadata": {
    "collapsed": false,
    "pycharm": {
     "name": "#%%\n",
     "is_executing": false
    }
   }
  },
  {
   "cell_type": "code",
   "execution_count": 20,
   "outputs": [],
   "source": [
    "#add the appropriate date_block_num value to the test set\n",
    "test['date_block_num'] = 34\n",
    "del test['ID']"
   ],
   "metadata": {
    "collapsed": false,
    "pycharm": {
     "name": "#%%\n",
     "is_executing": false
    }
   }
  },
  {
   "cell_type": "code",
   "execution_count": 21,
   "outputs": [],
   "source": [
    "#append test set to training dataframe\n",
    "all_data = pd.concat([all_data,test]).fillna(0)\n",
    "all_data = all_data.reset_index()\n",
    "del all_data['index']"
   ],
   "metadata": {
    "collapsed": false,
    "pycharm": {
     "name": "#%%\n",
     "is_executing": false
    }
   }
  },
  {
   "cell_type": "code",
   "execution_count": 22,
   "outputs": [],
   "source": [
    "#join items information to the training dataframe\n",
    "all_data = pd.merge(all_data, transactions, on=['shop_id', 'item_id', 'date_block_num'], how='left').fillna(0)\n",
    "all_data = pd.merge(all_data, items.drop(columns=['item_name','category_name']), on='item_id', how='left')\n",
    "\n",
    "del transactions\n",
    "del items"
   ],
   "metadata": {
    "collapsed": false,
    "pycharm": {
     "name": "#%%\n",
     "is_executing": false
    }
   }
  },
  {
   "cell_type": "markdown",
   "source": [
    "## Shop Analysis\n"
   ],
   "metadata": {
    "collapsed": false,
    "pycharm": {
     "name": "#%% md\n"
    }
   }
  },
  {
   "cell_type": "code",
   "execution_count": 23,
   "outputs": [],
   "source": [
    "#clustering shops by categores of item sold\n",
    "shops_cats = pd.DataFrame(\n",
    "    np.array(list(product(*[all_data['shop_id'].unique(), all_data['category_id'].unique()]))),\n",
    "    columns =['shop_id', 'category_id']\n",
    ")\n",
    "temp = all_data.groupby(['category_id', 'shop_id']).agg({'item_cnt_month':'sum'}).reset_index()\n",
    "temp2 = temp.groupby('shop_id').agg({'item_cnt_month':'sum'}).rename(columns={'item_cnt_month':'shop_total'})\n",
    "temp = temp.join(temp2, on='shop_id')\n",
    "temp['category_proportion'] = temp['item_cnt_month']/temp['shop_total']\n",
    "temp = temp[['shop_id', 'category_id', 'category_proportion']]\n",
    "del temp2\n",
    "shops_cats = shops_cats.merge(temp, on=['shop_id','category_id'], how='left')\n",
    "shops_cats = shops_cats.fillna(0)\n",
    "del temp\n",
    "\n",
    "shops_cats = shops_cats.pivot(index='shop_id', columns=['category_id'])\n",
    "kmeans = KMeans(n_clusters=7, random_state=0).fit(shops_cats)\n",
    "shops_cats['shop_cluster'] = kmeans.labels_.astype('int8')\n",
    "del kmeans\n",
    "\n",
    "#adding these clusters to the shops dataframe\n",
    "shops = shops.join(shops_cats['shop_cluster'], on='shop_id')\n",
    "del shops_cats\n",
    "\n",
    "# remove shops that are not present in train or test\n",
    "shops.dropna(inplace=True)\n"
   ],
   "metadata": {
    "collapsed": false,
    "pycharm": {
     "name": "#%%\n",
     "is_executing": false
    }
   }
  },
  {
   "cell_type": "code",
   "execution_count": 24,
   "outputs": [],
   "source": [
    "# insert shop name\n",
    "shops[\"shop_city\"] = shops[\"shop_name\"].apply(lambda x: process_text(x).split(\" \")[0])\n",
    "\n",
    "#creating a column for the type of shop\n",
    "shops[\"shop_type\"] = \"regular\"\n",
    "\n",
    "#there is some overlap in tc and mall, mall is given precedence\n",
    "shops.loc[shops[\"shop_name\"].str.contains(r\"tc\"), \"shop_type\"] = \"tc\"\n",
    "shops.loc[shops[\"shop_name\"].str.contains(r\"mall|center|mega\"), \"shop_type\"] = \"mall\"\n",
    "shops.loc[shops[\"shop_id\"].isin([9,20]), \"shop_type\"] = \"special\"\n",
    "shops.loc[shops[\"shop_id\"].isin([12,55]), \"shop_type\"] = \"online\"\n",
    "\n",
    "shops[\"shop_city\"] = le.fit_transform(shops[\"shop_city\"].values)\n",
    "shops[\"shop_type\"] = le.fit_transform(shops[\"shop_type\"].values)\n",
    "\n",
    "shops[\"shop_cluster\"] = shops[\"shop_cluster\"].astype(\"int\")"
   ],
   "metadata": {
    "collapsed": false,
    "pycharm": {
     "name": "#%%\n",
     "is_executing": false
    }
   }
  },
  {
   "cell_type": "code",
   "execution_count": 25,
   "outputs": [
    {
     "data": {
      "text/plain": "                                  shop_name  shop_id  shop_cluster  shop_city  \\\n45         Samara ParkHouse shopping center       45             0         16   \n49                     Tyumen SEC \"Crystal\"       49             3         21   \n56                   Chekhov TC\" Karnaval \"       56             2          2   \n6             Voronezh (Plekhanovskaya, 13)        6             0         25   \n19                 Kursk TC \" Pushkinskiy \"       19             0          9   \n37                  Novosibirsk SEC\" Mega \"       37             0         12   \n31                  Moscow TC\" Semenovsky \"       31             2         10   \n36   Novosibirsk SEC\" Gallery Novosibirsk \"       36             3         12   \n52                        Ufa TC\" Central \"       52             0         22   \n26            Moscow TTS\" Areal \"(Belyaevo)       26             0         10   \n\n    shop_type  \n45          0  \n49          2  \n56          2  \n6           2  \n19          2  \n37          2  \n31          2  \n36          2  \n52          2  \n26          2  ",
      "text/html": "<div>\n<style scoped>\n    .dataframe tbody tr th:only-of-type {\n        vertical-align: middle;\n    }\n\n    .dataframe tbody tr th {\n        vertical-align: top;\n    }\n\n    .dataframe thead th {\n        text-align: right;\n    }\n</style>\n<table border=\"1\" class=\"dataframe\">\n  <thead>\n    <tr style=\"text-align: right;\">\n      <th></th>\n      <th>shop_name</th>\n      <th>shop_id</th>\n      <th>shop_cluster</th>\n      <th>shop_city</th>\n      <th>shop_type</th>\n    </tr>\n  </thead>\n  <tbody>\n    <tr>\n      <th>45</th>\n      <td>Samara ParkHouse shopping center</td>\n      <td>45</td>\n      <td>0</td>\n      <td>16</td>\n      <td>0</td>\n    </tr>\n    <tr>\n      <th>49</th>\n      <td>Tyumen SEC \"Crystal\"</td>\n      <td>49</td>\n      <td>3</td>\n      <td>21</td>\n      <td>2</td>\n    </tr>\n    <tr>\n      <th>56</th>\n      <td>Chekhov TC\" Karnaval \"</td>\n      <td>56</td>\n      <td>2</td>\n      <td>2</td>\n      <td>2</td>\n    </tr>\n    <tr>\n      <th>6</th>\n      <td>Voronezh (Plekhanovskaya, 13)</td>\n      <td>6</td>\n      <td>0</td>\n      <td>25</td>\n      <td>2</td>\n    </tr>\n    <tr>\n      <th>19</th>\n      <td>Kursk TC \" Pushkinskiy \"</td>\n      <td>19</td>\n      <td>0</td>\n      <td>9</td>\n      <td>2</td>\n    </tr>\n    <tr>\n      <th>37</th>\n      <td>Novosibirsk SEC\" Mega \"</td>\n      <td>37</td>\n      <td>0</td>\n      <td>12</td>\n      <td>2</td>\n    </tr>\n    <tr>\n      <th>31</th>\n      <td>Moscow TC\" Semenovsky \"</td>\n      <td>31</td>\n      <td>2</td>\n      <td>10</td>\n      <td>2</td>\n    </tr>\n    <tr>\n      <th>36</th>\n      <td>Novosibirsk SEC\" Gallery Novosibirsk \"</td>\n      <td>36</td>\n      <td>3</td>\n      <td>12</td>\n      <td>2</td>\n    </tr>\n    <tr>\n      <th>52</th>\n      <td>Ufa TC\" Central \"</td>\n      <td>52</td>\n      <td>0</td>\n      <td>22</td>\n      <td>2</td>\n    </tr>\n    <tr>\n      <th>26</th>\n      <td>Moscow TTS\" Areal \"(Belyaevo)</td>\n      <td>26</td>\n      <td>0</td>\n      <td>10</td>\n      <td>2</td>\n    </tr>\n  </tbody>\n</table>\n</div>"
     },
     "metadata": {},
     "output_type": "execute_result",
     "execution_count": 25
    }
   ],
   "source": [
    "shops.sample(10)\n"
   ],
   "metadata": {
    "collapsed": false,
    "pycharm": {
     "name": "#%%\n",
     "is_executing": false
    }
   }
  },
  {
   "cell_type": "code",
   "execution_count": 26,
   "outputs": [
    {
     "data": {
      "text/plain": "   shop_id  item_id  date_block_num  item_cnt_month  revenue  \\\n0        2       27               0             1.0   2499.0   \n1        2       33               0             1.0    499.0   \n2        2      317               0             1.0    299.0   \n3        2      438               0             1.0    299.0   \n4        2      471               0             2.0    798.0   \n\n   perc_sales_year_shop  perc_sales_year_item  category_id  \\\n0              0.115227              0.218750           19   \n1              0.115227              0.127479           37   \n2              0.115227              0.181818           45   \n3              0.115227              0.150000           45   \n4              0.115227              0.163522           49   \n\n   item_name_vector_0  item_name_vector_1  item_name_vector_2  \\\n0            0.009564           -0.022983           -0.036763   \n1            0.004434           -0.029593           -0.026342   \n2           -0.198342            0.466214           -0.194764   \n3           -0.024946           -0.025346           -0.017227   \n4            0.002027            0.004761            0.036307   \n\n   item_name_vector_3  item_name_vector_4  item_name_vector_5  \\\n0           -0.042400            0.009389            0.030400   \n1           -0.028270           -0.037854            0.048597   \n2            0.209400            0.565167           -0.083701   \n3           -0.003779           -0.024940            0.004191   \n4            0.007189           -0.030771            0.043258   \n\n   item_name_vector_6  item_name_vector_7  item_name_vector_8  \\\n0           -0.018024            0.045419           -0.025249   \n1           -0.000605            0.007260           -0.020710   \n2            0.161291           -0.183867           -0.272822   \n3           -0.039311            0.043764           -0.040039   \n4            0.014054            0.005688           -0.004921   \n\n   item_name_vector_9 main_category  main_category_id  shop_cluster  \\\n0           -0.007084         Games                 9             4   \n1            0.027511        Cinema                 6             4   \n2           -0.355384         Books                 5             4   \n3            0.031280         Books                 5             4   \n4            0.033122         Books                 5             4   \n\n   shop_city  shop_type  \n0          0          2  \n1          0          2  \n2          0          2  \n3          0          2  \n4          0          2  ",
      "text/html": "<div>\n<style scoped>\n    .dataframe tbody tr th:only-of-type {\n        vertical-align: middle;\n    }\n\n    .dataframe tbody tr th {\n        vertical-align: top;\n    }\n\n    .dataframe thead th {\n        text-align: right;\n    }\n</style>\n<table border=\"1\" class=\"dataframe\">\n  <thead>\n    <tr style=\"text-align: right;\">\n      <th></th>\n      <th>shop_id</th>\n      <th>item_id</th>\n      <th>date_block_num</th>\n      <th>item_cnt_month</th>\n      <th>revenue</th>\n      <th>perc_sales_year_shop</th>\n      <th>perc_sales_year_item</th>\n      <th>category_id</th>\n      <th>item_name_vector_0</th>\n      <th>item_name_vector_1</th>\n      <th>item_name_vector_2</th>\n      <th>item_name_vector_3</th>\n      <th>item_name_vector_4</th>\n      <th>item_name_vector_5</th>\n      <th>item_name_vector_6</th>\n      <th>item_name_vector_7</th>\n      <th>item_name_vector_8</th>\n      <th>item_name_vector_9</th>\n      <th>main_category</th>\n      <th>main_category_id</th>\n      <th>shop_cluster</th>\n      <th>shop_city</th>\n      <th>shop_type</th>\n    </tr>\n  </thead>\n  <tbody>\n    <tr>\n      <th>0</th>\n      <td>2</td>\n      <td>27</td>\n      <td>0</td>\n      <td>1.0</td>\n      <td>2499.0</td>\n      <td>0.115227</td>\n      <td>0.218750</td>\n      <td>19</td>\n      <td>0.009564</td>\n      <td>-0.022983</td>\n      <td>-0.036763</td>\n      <td>-0.042400</td>\n      <td>0.009389</td>\n      <td>0.030400</td>\n      <td>-0.018024</td>\n      <td>0.045419</td>\n      <td>-0.025249</td>\n      <td>-0.007084</td>\n      <td>Games</td>\n      <td>9</td>\n      <td>4</td>\n      <td>0</td>\n      <td>2</td>\n    </tr>\n    <tr>\n      <th>1</th>\n      <td>2</td>\n      <td>33</td>\n      <td>0</td>\n      <td>1.0</td>\n      <td>499.0</td>\n      <td>0.115227</td>\n      <td>0.127479</td>\n      <td>37</td>\n      <td>0.004434</td>\n      <td>-0.029593</td>\n      <td>-0.026342</td>\n      <td>-0.028270</td>\n      <td>-0.037854</td>\n      <td>0.048597</td>\n      <td>-0.000605</td>\n      <td>0.007260</td>\n      <td>-0.020710</td>\n      <td>0.027511</td>\n      <td>Cinema</td>\n      <td>6</td>\n      <td>4</td>\n      <td>0</td>\n      <td>2</td>\n    </tr>\n    <tr>\n      <th>2</th>\n      <td>2</td>\n      <td>317</td>\n      <td>0</td>\n      <td>1.0</td>\n      <td>299.0</td>\n      <td>0.115227</td>\n      <td>0.181818</td>\n      <td>45</td>\n      <td>-0.198342</td>\n      <td>0.466214</td>\n      <td>-0.194764</td>\n      <td>0.209400</td>\n      <td>0.565167</td>\n      <td>-0.083701</td>\n      <td>0.161291</td>\n      <td>-0.183867</td>\n      <td>-0.272822</td>\n      <td>-0.355384</td>\n      <td>Books</td>\n      <td>5</td>\n      <td>4</td>\n      <td>0</td>\n      <td>2</td>\n    </tr>\n    <tr>\n      <th>3</th>\n      <td>2</td>\n      <td>438</td>\n      <td>0</td>\n      <td>1.0</td>\n      <td>299.0</td>\n      <td>0.115227</td>\n      <td>0.150000</td>\n      <td>45</td>\n      <td>-0.024946</td>\n      <td>-0.025346</td>\n      <td>-0.017227</td>\n      <td>-0.003779</td>\n      <td>-0.024940</td>\n      <td>0.004191</td>\n      <td>-0.039311</td>\n      <td>0.043764</td>\n      <td>-0.040039</td>\n      <td>0.031280</td>\n      <td>Books</td>\n      <td>5</td>\n      <td>4</td>\n      <td>0</td>\n      <td>2</td>\n    </tr>\n    <tr>\n      <th>4</th>\n      <td>2</td>\n      <td>471</td>\n      <td>0</td>\n      <td>2.0</td>\n      <td>798.0</td>\n      <td>0.115227</td>\n      <td>0.163522</td>\n      <td>49</td>\n      <td>0.002027</td>\n      <td>0.004761</td>\n      <td>0.036307</td>\n      <td>0.007189</td>\n      <td>-0.030771</td>\n      <td>0.043258</td>\n      <td>0.014054</td>\n      <td>0.005688</td>\n      <td>-0.004921</td>\n      <td>0.033122</td>\n      <td>Books</td>\n      <td>5</td>\n      <td>4</td>\n      <td>0</td>\n      <td>2</td>\n    </tr>\n  </tbody>\n</table>\n</div>"
     },
     "metadata": {},
     "output_type": "execute_result",
     "execution_count": 26
    }
   ],
   "source": [
    "#add shop information to the training dataframe\n",
    "all_data = pd.merge(all_data, shops.drop(columns='shop_name'), on='shop_id', how='left')\n",
    "del shops\n",
    "all_data.head()"
   ],
   "metadata": {
    "collapsed": false,
    "pycharm": {
     "name": "#%%\n",
     "is_executing": false
    }
   }
  },
  {
   "cell_type": "code",
   "execution_count": 27,
   "outputs": [],
   "source": [
    "# clip values of predicted month sales\n",
    "all_data[\"item_cnt_month_unclipped\"] = all_data[\"item_cnt_month\"]\n",
    "all_data[\"item_cnt_month\"] = all_data[\"item_cnt_month\"].clip(0, 20)"
   ],
   "metadata": {
    "collapsed": false,
    "pycharm": {
     "name": "#%%\n",
     "is_executing": false
    }
   }
  },
  {
   "cell_type": "code",
   "execution_count": 28,
   "outputs": [],
   "source": [
    "# downcast the dataframe\n",
    "all_data = downcast(all_data)"
   ],
   "metadata": {
    "collapsed": false,
    "pycharm": {
     "name": "#%%\n",
     "is_executing": false
    }
   }
  },
  {
   "cell_type": "code",
   "execution_count": 29,
   "outputs": [],
   "source": [
    "#These features show how many months have passed since the first appearance of the item/name/category/group/shop\n",
    "all_data['item_age'] = (all_data['date_block_num'] - all_data.groupby('item_id')['date_block_num'].transform('min')).astype('int8')\n",
    "all_data['category_age'] = (all_data['date_block_num'] - all_data.groupby('category_id')['date_block_num'].transform('min')).astype('int8')\n",
    "all_data['main_category_age'] = (all_data['date_block_num'] - all_data.groupby('main_category_id')['date_block_num'].transform('min')).astype('int8')\n",
    "all_data['shop_age'] = (all_data['date_block_num'] - all_data.groupby('shop_id')['date_block_num'].transform('min')).astype('int8')\n"
   ],
   "metadata": {
    "collapsed": false,
    "pycharm": {
     "name": "#%%\n",
     "is_executing": false
    }
   }
  },
  {
   "cell_type": "code",
   "execution_count": 30,
   "outputs": [],
   "source": [
    "#indicates whether shops have previously sold the item\n",
    "temp = all_data.query('item_cnt_month > 0').groupby(['item_id','shop_id']).agg({'date_block_num':'min'}).reset_index()\n",
    "temp.columns = ['item_id', 'shop_id', 'item_shop_first_sale']\n",
    "all_data = pd.merge(all_data, temp, on=['item_id','shop_id'], how='left')\n",
    "del temp\n",
    "all_data['item_shop_first_sale'] = all_data['item_shop_first_sale'].fillna(50)\n",
    "#item age that stays at 0 if a shop hasn't sold the item\n",
    "all_data['item_age_if_shop_sale'] = (all_data['date_block_num'] > all_data['item_shop_first_sale']) * all_data['item_age']\n",
    "#the length of time an item has been for sale without being sold at individual shops\n",
    "all_data['item_age_without_shop_sale'] = (all_data['date_block_num'] <= all_data['item_shop_first_sale']) * all_data['item_age']\n",
    "del all_data['item_shop_first_sale']"
   ],
   "metadata": {
    "collapsed": false,
    "pycharm": {
     "name": "#%%\n",
     "is_executing": false
    }
   }
  },
  {
   "cell_type": "code",
   "execution_count": 31,
   "outputs": [],
   "source": [
    "#The target variable, 'item_cnt', is the monthly sale count of individual items at individual shops. We now create features showing average monthly sales based on various groupings\n",
    "\n",
    "def agg_cnt_col(df, merging_cols, new_col,aggregation):\n",
    "    temp = df.groupby(merging_cols).agg(aggregation).reset_index()\n",
    "    temp.columns = merging_cols + [new_col]\n",
    "    df = pd.merge(df, temp, on=merging_cols, how='left')\n",
    "    return df"
   ],
   "metadata": {
    "collapsed": false,
    "pycharm": {
     "name": "#%%\n",
     "is_executing": false
    }
   }
  },
  {
   "cell_type": "code",
   "execution_count": 32,
   "outputs": [],
   "source": [
    "#individual items across all shops\n",
    "all_data = agg_cnt_col(all_data, ['date_block_num','item_id'],'item_cnt_month_all_shops',{'item_cnt_month':'mean'})\n",
    "all_data = agg_cnt_col(all_data, ['date_block_num','item_id'],'item_cnt_month_all_shops_median',{'item_cnt_month':'median'}) \n",
    "#all items in category at individual shops\n",
    "all_data = agg_cnt_col(all_data, ['date_block_num','category_id','shop_id'],'category_cnt',{'item_cnt_month':'mean'})\n",
    "all_data = agg_cnt_col(all_data, ['date_block_num','category_id','shop_id'],'category_cnt_median',{'item_cnt_month':'median'}) \n",
    "#all items in category across all shops\n",
    "all_data = agg_cnt_col(all_data, ['date_block_num','category_id'],'category_cnt_all_shops',{'item_cnt_month':'mean'})\n",
    "all_data = agg_cnt_col(all_data, ['date_block_num','category_id'],'category_cnt_all_shops_median',{'item_cnt_month':'median'})\n",
    "#all items in group\n",
    "all_data = agg_cnt_col(all_data, ['date_block_num','main_category_id','shop_id'],'group_cnt',{'item_cnt_month':'mean'})\n",
    "#all items in group across all shops\n",
    "all_data = agg_cnt_col(all_data, ['date_block_num','main_category_id'],'group_cnt_all_shops',{'item_cnt_month':'mean'})\n",
    "#all items at individual shops\n",
    "all_data = agg_cnt_col(all_data, ['date_block_num','shop_id'],'shop_cnt',{'item_cnt_month':'mean'})\n",
    "#all items at all shops within the city\n",
    "all_data = agg_cnt_col(all_data, ['date_block_num','shop_city'],'city_cnt',{'item_cnt_month':'mean'})"
   ],
   "metadata": {
    "collapsed": false,
    "pycharm": {
     "name": "#%%\n",
     "is_executing": false
    }
   }
  },
  {
   "cell_type": "code",
   "execution_count": 33,
   "outputs": [],
   "source": [
    "def agg_price_col(df, merging_cols, new_col):\n",
    "    temp = df.groupby(merging_cols).agg({'revenue':'sum','item_cnt_month_unclipped':'sum'}).reset_index()\n",
    "    temp[new_col] = temp['revenue']/temp['item_cnt_month_unclipped']\n",
    "    temp = temp[merging_cols + [new_col]]\n",
    "    df = pd.merge(df, temp, on=merging_cols, how='left')\n",
    "    return df\n",
    "\n",
    "#average item price\n",
    "all_data = agg_price_col(all_data,['date_block_num','item_id'],'item_price')\n",
    "#average price of items in category\n",
    "all_data = agg_price_col(all_data,['date_block_num','category_id'],'category_price')\n",
    "#average price of all items\n",
    "all_data = agg_price_col(all_data,['date_block_num'],'block_price')"
   ],
   "metadata": {
    "collapsed": false,
    "pycharm": {
     "name": "#%%\n",
     "is_executing": false
    }
   }
  },
  {
   "cell_type": "code",
   "execution_count": 34,
   "outputs": [],
   "source": [
    "\n",
    "# downcast the dataframe\n",
    "all_data = downcast(all_data)"
   ],
   "metadata": {
    "collapsed": false,
    "pycharm": {
     "name": "#%%\n",
     "is_executing": false
    }
   }
  },
  {
   "cell_type": "markdown",
   "source": [
    "## Insert lagging features"
   ],
   "metadata": {
    "collapsed": false,
    "pycharm": {
     "name": "#%% md\n"
    }
   }
  },
  {
   "cell_type": "code",
   "execution_count": 35,
   "outputs": [],
   "source": [
    "def lag_feature(df, lag, col, merge_cols):\n",
    "    \"\"\"\n",
    "    Add a column on the dataframe with a specific shift \\n\n",
    "    The name is the same as the base column with the suffix _lag{lag}\n",
    "    Add automatically also the column with the differnece between the two values\n",
    "    :param df: input dataframe\n",
    "    :param lag: month shift\n",
    "    :param col: column on which the shift is done\n",
    "    :param merge_cols: \n",
    "    :return: the same input dataframe with new columns\n",
    "    \"\"\"\n",
    "    temp = df[merge_cols + [col]]\n",
    "    temp = temp.groupby(merge_cols).agg({f'{col}':'first'}).reset_index()\n",
    "    temp.columns = merge_cols + [f'{col}_lag{lag}']\n",
    "    temp['date_block_num'] += lag\n",
    "    df = pd.merge(df, temp, on=merge_cols, how='left')\n",
    "    df[f'{col}_lag{lag}'] = df[f'{col}_lag{lag}'].fillna(0).astype('float32')\n",
    "    df[f'{col}_lag{lag}_diff'] = df[col] - df[f'{col}_lag{lag}']\n",
    "    del temp\n",
    "    return df"
   ],
   "metadata": {
    "collapsed": false,
    "pycharm": {
     "name": "#%%\n",
     "is_executing": false
    }
   }
  },
  {
   "cell_type": "markdown",
   "source": [
    "These features each have 3 lagged columns returned:\n",
    "\n",
    "- lag1 shows the value of the prior month\n",
    "- lag2 shows the value two months prior\n",
    "- lag12 shows the value of 12 months earlier\n",
    "\n",
    "Moreover all the features difference between the new and the base one are generated"
   ],
   "metadata": {
    "collapsed": false,
    "pycharm": {
     "name": "#%% md\n"
    }
   }
  },
  {
   "cell_type": "code",
   "execution_count": 36,
   "outputs": [],
   "source": [
    "lag_cols = [\n",
    "    ['item_cnt_month', [1, 2, 12], ['date_block_num', 'shop_id', 'item_id']],\n",
    "    ['item_cnt_month_unclipped', [1, 2, 12], ['date_block_num', 'shop_id', 'item_id']],\n",
    "    ['item_cnt_month_all_shops', [1, 2, 12], ['date_block_num', 'item_id']],\n",
    "    ['category_cnt', [1, 2, 12], ['date_block_num', 'shop_id', 'category_id']],\n",
    "    ['category_cnt_all_shops', [1, 2, 12], ['date_block_num', 'shop_id', 'category_id']],\n",
    "    ['group_cnt', [1, 2, 12], ['date_block_num', 'shop_id', 'main_category_id']],\n",
    "    ['group_cnt_all_shops', [1, 2, 12], ['date_block_num', 'main_category_id']],\n",
    "    ['shop_cnt', [1, 2, 12], ['date_block_num', 'shop_id']],\n",
    "    ['city_cnt', [1, 2, 12], ['date_block_num', 'shop_city']],\n",
    "]\n",
    "\n",
    "lag_cols_dict = {}\n",
    "for element, counters, agglomer in lag_cols:\n",
    "    lag_cols_dict[element] = {\"lag_counters\": counters,\n",
    "                              \"agg_columns\": agglomer}"
   ],
   "metadata": {
    "collapsed": false,
    "pycharm": {
     "name": "#%%\n",
     "is_executing": false
    }
   }
  },
  {
   "cell_type": "code",
   "execution_count": 37,
   "outputs": [],
   "source": [
    "for col in lag_cols_dict:\n",
    "    lags = lag_cols_dict[col][\"lag_counters\"]\n",
    "    merge_cols = lag_cols_dict[col][\"agg_columns\"]\n",
    "    for lag in lags:\n",
    "        all_data = lag_feature(all_data, lag, col, merge_cols)"
   ],
   "metadata": {
    "collapsed": false,
    "pycharm": {
     "name": "#%%\n",
     "is_executing": false
    }
   }
  },
  {
   "cell_type": "code",
   "execution_count": 38,
   "outputs": [],
   "source": [
    "# add ratio between the month and the previous year\n",
    "\n",
    "def cols_ratio(row, col1, col2):\n",
    "    if row[col2] == np.NaN:\n",
    "        return np.Nan\n",
    "    else:\n",
    "        return row[col1] / row[col2]\n",
    "\n",
    "#all_data['item_cnt_month_diff_perc'] = all_data.apply(lambda x: cols_ratio(x, 'item_cnt_month_unclipped', 'item_cnt_month_lag12'), axis=1)\n",
    "#all_data['item_cnt_month_all_shops_diff_perc'] = all_data.apply(lambda x: cols_ratio(x, 'item_cnt_month_all_shops', 'item_cnt_month_all_shops_lag12'), axis=1)\n",
    "#all_data['category_cnt_diff_perc'] = all_data.apply(lambda x: cols_ratio(x, 'category_cnt', 'category_cnt_lag12'), axis=1)\n",
    "#all_data['category_cnt_all_shops_diff_perc'] = all_data.apply(lambda x: cols_ratio(x, 'category_cnt_all_shops', 'category_cnt_all_shops_lag12'), axis=1)\n",
    "\n",
    "\n",
    "all_data['item_cnt_month_diff'] = all_data['item_cnt_month_unclipped_lag1']/all_data['item_cnt_month_lag12']\n",
    "all_data['item_cnt_month_all_shops_diff'] = all_data['item_cnt_month_all_shops_lag1']/all_data['item_cnt_month_all_shops_lag12']\n",
    "all_data['category_cnt_diff'] = all_data['category_cnt_lag1']/all_data['category_cnt_lag12']\n",
    "all_data['category_cnt_all_shops_diff'] = all_data['category_cnt_all_shops_lag1']/all_data['category_cnt_all_shops_lag12']"
   ],
   "metadata": {
    "collapsed": false,
    "pycharm": {
     "name": "#%%\n",
     "is_executing": false
    }
   }
  },
  {
   "cell_type": "code",
   "execution_count": 39,
   "outputs": [],
   "source": [
    "all_data = downcast(all_data)"
   ],
   "metadata": {
    "collapsed": false,
    "pycharm": {
     "name": "#%%\n",
     "is_executing": false
    }
   }
  },
  {
   "cell_type": "code",
   "execution_count": 40,
   "outputs": [],
   "source": [
    "all_data.drop(\"main_category\",axis=1, inplace=True)"
   ],
   "metadata": {
    "collapsed": false,
    "pycharm": {
     "name": "#%%\n",
     "is_executing": false
    }
   }
  },
  {
   "cell_type": "code",
   "execution_count": 41,
   "outputs": [
    {
     "data": {
      "text/plain": "shop_id                                  int16\nitem_id                                  int16\ndate_block_num                           int16\nitem_cnt_month                         float32\nrevenue                                float32\nperc_sales_year_shop                   float32\nperc_sales_year_item                   float32\ncategory_id                              int16\nitem_name_vector_0                     float32\nitem_name_vector_1                     float32\nitem_name_vector_2                     float32\nitem_name_vector_3                     float32\nitem_name_vector_4                     float32\nitem_name_vector_5                     float32\nitem_name_vector_6                     float32\nitem_name_vector_7                     float32\nitem_name_vector_8                     float32\nitem_name_vector_9                     float32\nmain_category_id                         int32\nshop_cluster                             int32\nshop_city                                int32\nshop_type                                int32\nitem_cnt_month_unclipped               float32\nitem_age                                  int8\ncategory_age                              int8\nmain_category_age                         int8\nshop_age                                  int8\nitem_age_if_shop_sale                     int8\nitem_age_without_shop_sale                int8\nitem_cnt_month_all_shops               float32\nitem_cnt_month_all_shops_median        float32\ncategory_cnt                           float32\ncategory_cnt_median                    float32\ncategory_cnt_all_shops                 float32\ncategory_cnt_all_shops_median          float32\ngroup_cnt                              float32\ngroup_cnt_all_shops                    float32\nshop_cnt                               float32\ncity_cnt                               float32\nitem_price                             float32\ncategory_price                         float32\nblock_price                            float32\nitem_cnt_month_lag1                    float32\nitem_cnt_month_lag1_diff               float32\nitem_cnt_month_lag2                    float32\nitem_cnt_month_lag2_diff               float32\nitem_cnt_month_lag12                   float32\nitem_cnt_month_lag12_diff              float32\nitem_cnt_month_unclipped_lag1          float32\nitem_cnt_month_unclipped_lag1_diff     float32\nitem_cnt_month_unclipped_lag2          float32\nitem_cnt_month_unclipped_lag2_diff     float32\nitem_cnt_month_unclipped_lag12         float32\nitem_cnt_month_unclipped_lag12_diff    float32\nitem_cnt_month_all_shops_lag1          float32\nitem_cnt_month_all_shops_lag1_diff     float32\nitem_cnt_month_all_shops_lag2          float32\nitem_cnt_month_all_shops_lag2_diff     float32\nitem_cnt_month_all_shops_lag12         float32\nitem_cnt_month_all_shops_lag12_diff    float32\ncategory_cnt_lag1                      float32\ncategory_cnt_lag1_diff                 float32\ncategory_cnt_lag2                      float32\ncategory_cnt_lag2_diff                 float32\ncategory_cnt_lag12                     float32\ncategory_cnt_lag12_diff                float32\ncategory_cnt_all_shops_lag1            float32\ncategory_cnt_all_shops_lag1_diff       float32\ncategory_cnt_all_shops_lag2            float32\ncategory_cnt_all_shops_lag2_diff       float32\ncategory_cnt_all_shops_lag12           float32\ncategory_cnt_all_shops_lag12_diff      float32\ngroup_cnt_lag1                         float32\ngroup_cnt_lag1_diff                    float32\ngroup_cnt_lag2                         float32\ngroup_cnt_lag2_diff                    float32\ngroup_cnt_lag12                        float32\ngroup_cnt_lag12_diff                   float32\ngroup_cnt_all_shops_lag1               float32\ngroup_cnt_all_shops_lag1_diff          float32\ngroup_cnt_all_shops_lag2               float32\ngroup_cnt_all_shops_lag2_diff          float32\ngroup_cnt_all_shops_lag12              float32\ngroup_cnt_all_shops_lag12_diff         float32\nshop_cnt_lag1                          float32\nshop_cnt_lag1_diff                     float32\nshop_cnt_lag2                          float32\nshop_cnt_lag2_diff                     float32\nshop_cnt_lag12                         float32\nshop_cnt_lag12_diff                    float32\ncity_cnt_lag1                          float32\ncity_cnt_lag1_diff                     float32\ncity_cnt_lag2                          float32\ncity_cnt_lag2_diff                     float32\ncity_cnt_lag12                         float32\ncity_cnt_lag12_diff                    float32\nitem_cnt_month_diff                    float32\nitem_cnt_month_all_shops_diff          float32\ncategory_cnt_diff                      float32\ncategory_cnt_all_shops_diff            float32\ndtype: object"
     },
     "metadata": {},
     "output_type": "execute_result",
     "execution_count": 41
    }
   ],
   "source": [
    "all_data.dtypes"
   ],
   "metadata": {
    "collapsed": false,
    "pycharm": {
     "name": "#%%\n",
     "is_executing": false
    }
   }
  },
  {
   "cell_type": "code",
   "execution_count": 42,
   "outputs": [],
   "source": [
    "all_data.reset_index().to_feather(os.path.join(os.getcwd(), CUSTOM_DATA_FOLDER, 'all_data_preprocessed.feather'))\n",
    "\n"
   ],
   "metadata": {
    "collapsed": false,
    "pycharm": {
     "name": "#%%\n",
     "is_executing": false
    }
   }
  },
  {
   "cell_type": "code",
   "execution_count": 42,
   "outputs": [],
   "source": [
    "\n"
   ],
   "metadata": {
    "collapsed": false,
    "pycharm": {
     "name": "#%%\n",
     "is_executing": false
    }
   }
  }
 ],
 "metadata": {
  "kernelspec": {
   "name": "python3",
   "language": "python",
   "display_name": "Python 3"
  },
  "language_info": {
   "codemirror_mode": {
    "name": "ipython",
    "version": 2
   },
   "file_extension": ".py",
   "mimetype": "text/x-python",
   "name": "python",
   "nbconvert_exporter": "python",
   "pygments_lexer": "ipython2",
   "version": "2.7.6"
  },
  "pycharm": {
   "stem_cell": {
    "cell_type": "raw",
    "source": [],
    "metadata": {
     "collapsed": false
    }
   }
  }
 },
 "nbformat": 4,
 "nbformat_minor": 0
}