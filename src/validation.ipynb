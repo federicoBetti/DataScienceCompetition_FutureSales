{
 "cells": [
  {
   "cell_type": "code",
   "execution_count": 66,
   "outputs": [],
   "source": [
    "import pandas as pd\n",
    "import numpy as np\n",
    "import os\n",
    "from src.utils.submission import createSubmissionFile\n",
    "%matplotlib inline \n",
    "import sklearn\n",
    "from sklearn.linear_model import LinearRegression\n",
    "from xgboost import XGBRegressor\n",
    "import matplotlib.pyplot as plt\n"
   ],
   "metadata": {
    "collapsed": false,
    "pycharm": {
     "name": "#%%\n",
     "is_executing": false
    }
   }
  },
  {
   "cell_type": "code",
   "execution_count": 67,
   "outputs": [],
   "source": [
    "DATA_FOLDER = '../data/'\n",
    "CUSTOM_DATA_FOLDER = '../data_custom/'\n",
    "SUBMISSION_FOLDER = \"../submissions/\""
   ],
   "metadata": {
    "collapsed": false,
    "pycharm": {
     "name": "#%%\n",
     "is_executing": false
    }
   }
  },
  {
   "cell_type": "code",
   "execution_count": 68,
   "outputs": [],
   "source": [
    "train_test_df = pd.read_feather(os.path.join(os.getcwd(), CUSTOM_DATA_FOLDER, 'all_data_preprocessed.feather')).set_index(\"index\")\n"
   ],
   "metadata": {
    "collapsed": false,
    "pycharm": {
     "name": "#%%\n",
     "is_executing": false
    }
   }
  },
  {
   "cell_type": "code",
   "execution_count": 69,
   "outputs": [
    {
     "data": {
      "text/plain": "         date_block_num  shop_id  item_id  item_cnt_month  shop_category  \\\nindex                                                                      \n1497465               4        2       27             0.0              4   \n1497466               4        2       28             0.0              4   \n1497467               4        2       29             0.0              4   \n1497468               4        2       30             0.0              4   \n1497469               4        2       31             0.0              4   \n\n         shop_city  item_category_id  name2  name3  subtype_code  ...  \\\nindex                                                             ...   \n1497465          0                19     76     42            10  ...   \n1497466          0                30    107     42            55  ...   \n1497467          0                23    123     42            16  ...   \n1497468          0                40      4     42             4  ...   \n1497469          0                37      4    562             1  ...   \n\n         date_shop_item_avg_item_cnt_lag_3  \\\nindex                                        \n1497465                                0.0   \n1497466                                0.0   \n1497467                                NaN   \n1497468                                0.0   \n1497469                                4.0   \n\n         date_shop_subtype_avg_item_cnt_lag_1  date_city_avg_item_cnt_lag_1  \\\nindex                                                                         \n1497465                              0.449463                      0.071838   \n1497466                              0.387207                      0.071838   \n1497467                                   NaN                           NaN   \n1497468                              0.018585                      0.071838   \n1497469                              0.035919                      0.071838   \n\n         date_item_city_avg_item_cnt_lag_1  delta_price_lag  \\\nindex                                                         \n1497465                                0.0         0.367676   \n1497466                                0.0         0.256348   \n1497467                                NaN         0.000000   \n1497468                                0.0         0.212402   \n1497469                                1.0         0.191040   \n\n         delta_revenue_lag_1  month  days  item_shop_first_sale  \\\nindex                                                             \n1497465         37326.816406      4    31                     4   \n1497466         37326.816406      4    31                     4   \n1497467                  NaN      4    31                     4   \n1497468         37326.816406      4    31                     3   \n1497469         37326.816406      4    31                     3   \n\n         item_first_sale  \nindex                     \n1497465                4  \n1497466                4  \n1497467                4  \n1497468                3  \n1497469                3  \n\n[5 rows x 33 columns]",
      "text/html": "<div>\n<style scoped>\n    .dataframe tbody tr th:only-of-type {\n        vertical-align: middle;\n    }\n\n    .dataframe tbody tr th {\n        vertical-align: top;\n    }\n\n    .dataframe thead th {\n        text-align: right;\n    }\n</style>\n<table border=\"1\" class=\"dataframe\">\n  <thead>\n    <tr style=\"text-align: right;\">\n      <th></th>\n      <th>date_block_num</th>\n      <th>shop_id</th>\n      <th>item_id</th>\n      <th>item_cnt_month</th>\n      <th>shop_category</th>\n      <th>shop_city</th>\n      <th>item_category_id</th>\n      <th>name2</th>\n      <th>name3</th>\n      <th>subtype_code</th>\n      <th>...</th>\n      <th>date_shop_item_avg_item_cnt_lag_3</th>\n      <th>date_shop_subtype_avg_item_cnt_lag_1</th>\n      <th>date_city_avg_item_cnt_lag_1</th>\n      <th>date_item_city_avg_item_cnt_lag_1</th>\n      <th>delta_price_lag</th>\n      <th>delta_revenue_lag_1</th>\n      <th>month</th>\n      <th>days</th>\n      <th>item_shop_first_sale</th>\n      <th>item_first_sale</th>\n    </tr>\n    <tr>\n      <th>index</th>\n      <th></th>\n      <th></th>\n      <th></th>\n      <th></th>\n      <th></th>\n      <th></th>\n      <th></th>\n      <th></th>\n      <th></th>\n      <th></th>\n      <th></th>\n      <th></th>\n      <th></th>\n      <th></th>\n      <th></th>\n      <th></th>\n      <th></th>\n      <th></th>\n      <th></th>\n      <th></th>\n      <th></th>\n    </tr>\n  </thead>\n  <tbody>\n    <tr>\n      <th>1497465</th>\n      <td>4</td>\n      <td>2</td>\n      <td>27</td>\n      <td>0.0</td>\n      <td>4</td>\n      <td>0</td>\n      <td>19</td>\n      <td>76</td>\n      <td>42</td>\n      <td>10</td>\n      <td>...</td>\n      <td>0.0</td>\n      <td>0.449463</td>\n      <td>0.071838</td>\n      <td>0.0</td>\n      <td>0.367676</td>\n      <td>37326.816406</td>\n      <td>4</td>\n      <td>31</td>\n      <td>4</td>\n      <td>4</td>\n    </tr>\n    <tr>\n      <th>1497466</th>\n      <td>4</td>\n      <td>2</td>\n      <td>28</td>\n      <td>0.0</td>\n      <td>4</td>\n      <td>0</td>\n      <td>30</td>\n      <td>107</td>\n      <td>42</td>\n      <td>55</td>\n      <td>...</td>\n      <td>0.0</td>\n      <td>0.387207</td>\n      <td>0.071838</td>\n      <td>0.0</td>\n      <td>0.256348</td>\n      <td>37326.816406</td>\n      <td>4</td>\n      <td>31</td>\n      <td>4</td>\n      <td>4</td>\n    </tr>\n    <tr>\n      <th>1497467</th>\n      <td>4</td>\n      <td>2</td>\n      <td>29</td>\n      <td>0.0</td>\n      <td>4</td>\n      <td>0</td>\n      <td>23</td>\n      <td>123</td>\n      <td>42</td>\n      <td>16</td>\n      <td>...</td>\n      <td>NaN</td>\n      <td>NaN</td>\n      <td>NaN</td>\n      <td>NaN</td>\n      <td>0.000000</td>\n      <td>NaN</td>\n      <td>4</td>\n      <td>31</td>\n      <td>4</td>\n      <td>4</td>\n    </tr>\n    <tr>\n      <th>1497468</th>\n      <td>4</td>\n      <td>2</td>\n      <td>30</td>\n      <td>0.0</td>\n      <td>4</td>\n      <td>0</td>\n      <td>40</td>\n      <td>4</td>\n      <td>42</td>\n      <td>4</td>\n      <td>...</td>\n      <td>0.0</td>\n      <td>0.018585</td>\n      <td>0.071838</td>\n      <td>0.0</td>\n      <td>0.212402</td>\n      <td>37326.816406</td>\n      <td>4</td>\n      <td>31</td>\n      <td>3</td>\n      <td>3</td>\n    </tr>\n    <tr>\n      <th>1497469</th>\n      <td>4</td>\n      <td>2</td>\n      <td>31</td>\n      <td>0.0</td>\n      <td>4</td>\n      <td>0</td>\n      <td>37</td>\n      <td>4</td>\n      <td>562</td>\n      <td>1</td>\n      <td>...</td>\n      <td>4.0</td>\n      <td>0.035919</td>\n      <td>0.071838</td>\n      <td>1.0</td>\n      <td>0.191040</td>\n      <td>37326.816406</td>\n      <td>4</td>\n      <td>31</td>\n      <td>3</td>\n      <td>3</td>\n    </tr>\n  </tbody>\n</table>\n<p>5 rows × 33 columns</p>\n</div>"
     },
     "metadata": {},
     "output_type": "execute_result",
     "execution_count": 69
    }
   ],
   "source": [
    "train_test_df.head()"
   ],
   "metadata": {
    "collapsed": false,
    "pycharm": {
     "name": "#%%\n",
     "is_executing": false
    }
   }
  },
  {
   "cell_type": "code",
   "execution_count": 70,
   "outputs": [],
   "source": [
    "def trainXGBoost(train_x, train_y, valid_x=None, valid_y=None, n_estimators=50):\n",
    "    \n",
    "    model = XGBRegressor(\n",
    "        max_depth=10,\n",
    "        n_estimators=n_estimators,\n",
    "        min_child_weight=0.5, \n",
    "        colsample_bytree=0.8, \n",
    "        subsample=0.8, \n",
    "        eta=0.1,\n",
    "    #     tree_method='gpu_hist',\n",
    "        seed=42)\n",
    "    if valid_x is None : \n",
    "        eval_set = None\n",
    "        early_stopping = None\n",
    "    else: \n",
    "        eval_set = [(train_x, train_y), (valid_x, valid_y)]\n",
    "        early_stopping = 10\n",
    "    \n",
    "    model.fit(\n",
    "        train_x, \n",
    "        train_y, \n",
    "        eval_metric=\"rmse\", \n",
    "        eval_set=eval_set, \n",
    "        verbose=True, \n",
    "        early_stopping_rounds = early_stopping)\n",
    "    \n",
    "    return model\n",
    "\n",
    "\n",
    "def trainLR(train_x, train_y):\n",
    "    lr = LinearRegression()\n",
    "    lr.fit(train_x.fillna(0).values, train_y.fillna(0))\n",
    "    return lr\n",
    "\n",
    "from sklearn import svm\n",
    "def trainSVM(train_x, train_y):\n",
    "    regr = svm.LinearSVR()\n",
    "    regr.fit(train_x.values, train_y)\n",
    "    return regr\n",
    "\n",
    "from sklearn.neural_network import MLPRegressor\n",
    "def trainNN(train_x, train_y):\n",
    "    regr = MLPRegressor(hidden_layer_sizes=(16, 8), learning_rate=\"adaptive\", verbose=True, max_iter=8)\n",
    "    regr.fit(train_x.values, train_y)\n",
    "    return regr\n",
    "\n",
    "from sklearn.metrics import mean_squared_error\n",
    "def getRMSE(y_actual, y_predicted):\n",
    "    rms = mean_squared_error(y_actual.clip(upper=20), y_predicted.clip(max=20), squared=True)\n",
    "    return rms"
   ],
   "metadata": {
    "collapsed": false,
    "pycharm": {
     "name": "#%%\n",
     "is_executing": false
    }
   }
  },
  {
   "cell_type": "code",
   "execution_count": 86,
   "outputs": [],
   "source": [
    "#train_test_df.dropna(inplace=True)\n",
    "all_train_x = train_test_df[train_test_df.date_block_num < 34].drop(['item_cnt_month'], axis=1)\n",
    "all_train_y = train_test_df[train_test_df.date_block_num < 34]['item_cnt_month'].clip(lower=0, upper=20)"
   ],
   "metadata": {
    "collapsed": false,
    "pycharm": {
     "name": "#%%\n",
     "is_executing": false
    }
   }
  },
  {
   "cell_type": "code",
   "execution_count": 72,
   "outputs": [],
   "source": [
    "train_x = train_test_df[train_test_df.date_block_num < 33].drop(['item_cnt_month'], axis=1)\n",
    "train_y = train_test_df[train_test_df.date_block_num < 33]['item_cnt_month'].clip(lower=0, upper=20)\n",
    "valid_x = train_test_df[train_test_df.date_block_num == 33].drop(['item_cnt_month'], axis=1)\n",
    "valid_y = train_test_df[train_test_df.date_block_num == 33]['item_cnt_month'].clip(lower=0, upper=20)\n",
    "test_x = train_test_df[train_test_df.date_block_num == 34].drop(['item_cnt_month'], axis=1)\n",
    "\n"
   ],
   "metadata": {
    "collapsed": false,
    "pycharm": {
     "name": "#%%\n",
     "is_executing": false
    }
   }
  },
  {
   "cell_type": "code",
   "execution_count": 8,
   "outputs": [
    {
     "name": "stdout",
     "text": [
      "[0]\tvalidation_0-rmse:3.30702\tvalidation_1-rmse:2.57119\n",
      "[1]\tvalidation_0-rmse:3.11013\tvalidation_1-rmse:2.42601\n",
      "[2]\tvalidation_0-rmse:2.93720\tvalidation_1-rmse:2.33563\n",
      "[3]\tvalidation_0-rmse:2.78519\tvalidation_1-rmse:2.23261\n",
      "[4]\tvalidation_0-rmse:2.66091\tvalidation_1-rmse:2.16893\n",
      "[5]\tvalidation_0-rmse:2.53736\tvalidation_1-rmse:2.16746\n",
      "[6]\tvalidation_0-rmse:2.42698\tvalidation_1-rmse:2.13580\n",
      "[7]\tvalidation_0-rmse:2.34183\tvalidation_1-rmse:2.09298\n",
      "[8]\tvalidation_0-rmse:2.25882\tvalidation_1-rmse:2.14974\n",
      "[9]\tvalidation_0-rmse:2.18267\tvalidation_1-rmse:2.13703\n",
      "[10]\tvalidation_0-rmse:2.11745\tvalidation_1-rmse:2.19043\n",
      "[11]\tvalidation_0-rmse:2.05874\tvalidation_1-rmse:2.17822\n",
      "[12]\tvalidation_0-rmse:2.00782\tvalidation_1-rmse:2.18304\n",
      "[13]\tvalidation_0-rmse:1.95857\tvalidation_1-rmse:2.17637\n",
      "[14]\tvalidation_0-rmse:1.91779\tvalidation_1-rmse:2.23152\n",
      "[15]\tvalidation_0-rmse:1.88218\tvalidation_1-rmse:2.22666\n",
      "[16]\tvalidation_0-rmse:1.85394\tvalidation_1-rmse:2.23142\n",
      "[17]\tvalidation_0-rmse:1.82557\tvalidation_1-rmse:2.30781\n",
      "Wall time: 4min 24s\n"
     ],
     "output_type": "stream"
    }
   ],
   "source": [
    "%%time\n",
    "xgboost_model = trainXGBoost(train_x, train_y, valid_x, valid_y)"
   ],
   "metadata": {
    "collapsed": false,
    "pycharm": {
     "name": "#%%\n",
     "is_executing": false
    }
   }
  },
  {
   "cell_type": "code",
   "execution_count": 9,
   "outputs": [
    {
     "name": "stdout",
     "text": [
      "Wall time: 5.81 s\n"
     ],
     "output_type": "stream"
    }
   ],
   "source": [
    "%%time\n",
    "\n",
    "lr_model = trainLR(train_x.fillna(0), train_y.fillna(0))"
   ],
   "metadata": {
    "collapsed": false,
    "pycharm": {
     "name": "#%%\n",
     "is_executing": false
    }
   }
  },
  {
   "cell_type": "code",
   "execution_count": 10,
   "outputs": [
    {
     "name": "stdout",
     "text": [
      "Wall time: 1h 6min 51s\n"
     ],
     "output_type": "stream"
    },
    {
     "name": "stderr",
     "text": [
      "C:\\Users\\feder\\Anaconda3\\envs\\DataScience\\lib\\site-packages\\sklearn\\svm\\_base.py:976: ConvergenceWarning: Liblinear failed to converge, increase the number of iterations.\n",
      "  warnings.warn(\"Liblinear failed to converge, increase \"\n"
     ],
     "output_type": "stream"
    }
   ],
   "source": [
    "%%time\n",
    "svm_model = trainSVM(train_x.fillna(0), train_y.fillna(0))"
   ],
   "metadata": {
    "collapsed": false,
    "pycharm": {
     "name": "#%%\n",
     "is_executing": false
    }
   }
  },
  {
   "cell_type": "code",
   "execution_count": 11,
   "outputs": [
    {
     "name": "stdout",
     "text": [
      "Iteration 1, loss = 106536.68329027\n",
      "Iteration 2, loss = 6.35411209\n",
      "Iteration 3, loss = 6.27230639\n",
      "Iteration 4, loss = 6.27028393\n",
      "Iteration 5, loss = 6.27019347\n",
      "Iteration 6, loss = 6.27017521\n",
      "Iteration 7, loss = 6.27017232\n",
      "Iteration 8, loss = 6.27018787\n",
      "Wall time: 7min 49s\n"
     ],
     "output_type": "stream"
    },
    {
     "name": "stderr",
     "text": [
      "C:\\Users\\feder\\Anaconda3\\envs\\DataScience\\lib\\site-packages\\sklearn\\neural_network\\_multilayer_perceptron.py:582: ConvergenceWarning: Stochastic Optimizer: Maximum iterations (8) reached and the optimization hasn't converged yet.\n",
      "  warnings.warn(\n"
     ],
     "output_type": "stream"
    }
   ],
   "source": [
    "%%time\n",
    "nn_model = trainNN(train_x.fillna(0), train_y.fillna(0))\n"
   ],
   "metadata": {
    "collapsed": false,
    "pycharm": {
     "name": "#%%\n",
     "is_executing": false
    }
   }
  },
  {
   "cell_type": "code",
   "execution_count": 13,
   "outputs": [
    {
     "name": "stdout",
     "text": [
      "XGB score: 0.877622663974762, LRScore: 0.9578894972801208, SVMScore: 1.1564089725702447, NNScore: 1.2984035473709565\n"
     ],
     "output_type": "stream"
    }
   ],
   "source": [
    "xgboost_predictions = xgboost_model.predict(valid_x, ntree_limit=xgboost_model.best_ntree_limit)\n",
    "lr_predictions = lr_model.predict(valid_x.fillna(0))\n",
    "sv_predictions = svm_model.predict(valid_x.fillna(0))\n",
    "nn_predictions = nn_model.predict(valid_x.fillna(0))\n",
    "\n",
    "xgboost_score = getRMSE(valid_y, xgboost_predictions)\n",
    "lr_score = getRMSE(valid_y, lr_predictions)\n",
    "svm_score = getRMSE(valid_y, sv_predictions)\n",
    "nn_score = getRMSE(valid_y, nn_predictions)\n",
    "print(\"XGB score: {}, LRScore: {}, SVMScore: {}, NNScore: {}\".format(xgboost_score, lr_score, svm_score, nn_score))"
   ],
   "metadata": {
    "collapsed": false,
    "pycharm": {
     "name": "#%%\n",
     "is_executing": false
    }
   }
  },
  {
   "cell_type": "code",
   "execution_count": 28,
   "outputs": [
    {
     "name": "stdout",
     "text": [
      "Best alpha: 0.719000; Corresponding r2 score on train: 0.862250\n"
     ],
     "output_type": "stream"
    }
   ],
   "source": [],
   "metadata": {
    "collapsed": false,
    "pycharm": {
     "name": "#%%\n",
     "is_executing": false
    }
   }
  },
  {
   "cell_type": "code",
   "execution_count": null,
   "outputs": [],
   "source": [
    "xgb_complete = trainXGBoost(all_train_x, all_train_y, n_estimators=7)\n",
    "test_predict_xgb = xgb_complete.predict(test_x)\n",
    "\n",
    "xgb_result = test_x.copy()\n",
    "xgb_result[\"ID\"] = range(len(xgb_result))\n",
    "xgb_result[\"item_cnt_month\"] = test_predict_xgb\n",
    "createSubmissionFile(xgb_result, \"xgb_improvedmodel_simple_result.csv\")\n",
    "del xgb_complete"
   ],
   "metadata": {
    "collapsed": false,
    "pycharm": {
     "name": "#%%\n"
    }
   }
  },
  {
   "cell_type": "code",
   "execution_count": 64,
   "outputs": [],
   "source": [
    "lr_complete = trainLR(all_train_x.fillna(0), all_train_y)\n",
    "test_predict_lr = lr_complete.predict(test_x.fillna(0))\n",
    "lr_result = test_x.copy()\n",
    "lr_result[\"ID\"] = range(len(lr_result))\n",
    "lr_result[\"item_cnt_month\"] = test_predict_lr\n",
    "createSubmissionFile(lr_result, \"lr_simple_result.csv\")\n"
   ],
   "metadata": {
    "collapsed": false,
    "pycharm": {
     "name": "#%%\n",
     "is_executing": false
    }
   }
  },
  {
   "cell_type": "code",
   "execution_count": 32,
   "outputs": [],
   "source": [
    "xgb_complete = trainXGBoost(all_train_x, all_train_y, n_estimators=7)\n",
    "test_predict_xgb = xgb_complete.predict(test_x)\n",
    "\n",
    "lr_complete = trainLR(all_train_x.fillna(0), all_train_y)\n",
    "test_predict_lr = lr_complete.predict(test_x.fillna(0))\n",
    "\n",
    "alpha = 0.719\n",
    "test_predict = alpha * test_predict_xgb + ((1 - alpha) * test_predict_lr)\n",
    "\n",
    "lr_result = test_x.copy()\n",
    "lr_result[\"ID\"] = range(len(lr_result))\n",
    "lr_result[\"item_cnt_month\"] = test_predict_lr\n",
    "createSubmissionFile(lr_result, \"lr_xgb_sample_ensamgling.csv\")\n"
   ],
   "metadata": {
    "collapsed": false,
    "pycharm": {
     "name": "#%%\n",
     "is_executing": false
    }
   }
  },
  {
   "cell_type": "code",
   "execution_count": null,
   "outputs": [],
   "source": [],
   "metadata": {
    "collapsed": false,
    "pycharm": {
     "name": "#%%\n"
    }
   }
  },
  {
   "cell_type": "markdown",
   "source": [
    "# Ensambling\n"
   ],
   "metadata": {
    "collapsed": false
   }
  },
  {
   "cell_type": "code",
   "execution_count": 76,
   "outputs": [],
   "source": [
    "number_of_model = 2"
   ],
   "metadata": {
    "collapsed": false,
    "pycharm": {
     "name": "#%%\n",
     "is_executing": false
    }
   }
  },
  {
   "cell_type": "code",
   "execution_count": 77,
   "outputs": [
    {
     "data": {
      "text/plain": "         date_block_num  shop_id  item_id  shop_category  shop_city  \\\nindex                                                                 \n1497465               4        2       27              4          0   \n1497466               4        2       28              4          0   \n1497467               4        2       29              4          0   \n1497468               4        2       30              4          0   \n1497469               4        2       31              4          0   \n\n         item_category_id  name2  name3  subtype_code  type_code  ...  \\\nindex                                                             ...   \n1497465                19     76     42            10          3  ...   \n1497466                30    107     42            55          3  ...   \n1497467                23    123     42            16          3  ...   \n1497468                40      4     42             4          5  ...   \n1497469                37      4    562             1          5  ...   \n\n         date_shop_item_avg_item_cnt_lag_3  \\\nindex                                        \n1497465                                0.0   \n1497466                                0.0   \n1497467                                NaN   \n1497468                                0.0   \n1497469                                4.0   \n\n         date_shop_subtype_avg_item_cnt_lag_1  date_city_avg_item_cnt_lag_1  \\\nindex                                                                         \n1497465                              0.449463                      0.071838   \n1497466                              0.387207                      0.071838   \n1497467                                   NaN                           NaN   \n1497468                              0.018585                      0.071838   \n1497469                              0.035919                      0.071838   \n\n         date_item_city_avg_item_cnt_lag_1  delta_price_lag  \\\nindex                                                         \n1497465                                0.0         0.367676   \n1497466                                0.0         0.256348   \n1497467                                NaN         0.000000   \n1497468                                0.0         0.212402   \n1497469                                1.0         0.191040   \n\n         delta_revenue_lag_1  month  days  item_shop_first_sale  \\\nindex                                                             \n1497465         37326.816406      4    31                     4   \n1497466         37326.816406      4    31                     4   \n1497467                  NaN      4    31                     4   \n1497468         37326.816406      4    31                     3   \n1497469         37326.816406      4    31                     3   \n\n         item_first_sale  \nindex                     \n1497465                4  \n1497466                4  \n1497467                4  \n1497468                3  \n1497469                3  \n\n[5 rows x 32 columns]",
      "text/html": "<div>\n<style scoped>\n    .dataframe tbody tr th:only-of-type {\n        vertical-align: middle;\n    }\n\n    .dataframe tbody tr th {\n        vertical-align: top;\n    }\n\n    .dataframe thead th {\n        text-align: right;\n    }\n</style>\n<table border=\"1\" class=\"dataframe\">\n  <thead>\n    <tr style=\"text-align: right;\">\n      <th></th>\n      <th>date_block_num</th>\n      <th>shop_id</th>\n      <th>item_id</th>\n      <th>shop_category</th>\n      <th>shop_city</th>\n      <th>item_category_id</th>\n      <th>name2</th>\n      <th>name3</th>\n      <th>subtype_code</th>\n      <th>type_code</th>\n      <th>...</th>\n      <th>date_shop_item_avg_item_cnt_lag_3</th>\n      <th>date_shop_subtype_avg_item_cnt_lag_1</th>\n      <th>date_city_avg_item_cnt_lag_1</th>\n      <th>date_item_city_avg_item_cnt_lag_1</th>\n      <th>delta_price_lag</th>\n      <th>delta_revenue_lag_1</th>\n      <th>month</th>\n      <th>days</th>\n      <th>item_shop_first_sale</th>\n      <th>item_first_sale</th>\n    </tr>\n    <tr>\n      <th>index</th>\n      <th></th>\n      <th></th>\n      <th></th>\n      <th></th>\n      <th></th>\n      <th></th>\n      <th></th>\n      <th></th>\n      <th></th>\n      <th></th>\n      <th></th>\n      <th></th>\n      <th></th>\n      <th></th>\n      <th></th>\n      <th></th>\n      <th></th>\n      <th></th>\n      <th></th>\n      <th></th>\n      <th></th>\n    </tr>\n  </thead>\n  <tbody>\n    <tr>\n      <th>1497465</th>\n      <td>4</td>\n      <td>2</td>\n      <td>27</td>\n      <td>4</td>\n      <td>0</td>\n      <td>19</td>\n      <td>76</td>\n      <td>42</td>\n      <td>10</td>\n      <td>3</td>\n      <td>...</td>\n      <td>0.0</td>\n      <td>0.449463</td>\n      <td>0.071838</td>\n      <td>0.0</td>\n      <td>0.367676</td>\n      <td>37326.816406</td>\n      <td>4</td>\n      <td>31</td>\n      <td>4</td>\n      <td>4</td>\n    </tr>\n    <tr>\n      <th>1497466</th>\n      <td>4</td>\n      <td>2</td>\n      <td>28</td>\n      <td>4</td>\n      <td>0</td>\n      <td>30</td>\n      <td>107</td>\n      <td>42</td>\n      <td>55</td>\n      <td>3</td>\n      <td>...</td>\n      <td>0.0</td>\n      <td>0.387207</td>\n      <td>0.071838</td>\n      <td>0.0</td>\n      <td>0.256348</td>\n      <td>37326.816406</td>\n      <td>4</td>\n      <td>31</td>\n      <td>4</td>\n      <td>4</td>\n    </tr>\n    <tr>\n      <th>1497467</th>\n      <td>4</td>\n      <td>2</td>\n      <td>29</td>\n      <td>4</td>\n      <td>0</td>\n      <td>23</td>\n      <td>123</td>\n      <td>42</td>\n      <td>16</td>\n      <td>3</td>\n      <td>...</td>\n      <td>NaN</td>\n      <td>NaN</td>\n      <td>NaN</td>\n      <td>NaN</td>\n      <td>0.000000</td>\n      <td>NaN</td>\n      <td>4</td>\n      <td>31</td>\n      <td>4</td>\n      <td>4</td>\n    </tr>\n    <tr>\n      <th>1497468</th>\n      <td>4</td>\n      <td>2</td>\n      <td>30</td>\n      <td>4</td>\n      <td>0</td>\n      <td>40</td>\n      <td>4</td>\n      <td>42</td>\n      <td>4</td>\n      <td>5</td>\n      <td>...</td>\n      <td>0.0</td>\n      <td>0.018585</td>\n      <td>0.071838</td>\n      <td>0.0</td>\n      <td>0.212402</td>\n      <td>37326.816406</td>\n      <td>4</td>\n      <td>31</td>\n      <td>3</td>\n      <td>3</td>\n    </tr>\n    <tr>\n      <th>1497469</th>\n      <td>4</td>\n      <td>2</td>\n      <td>31</td>\n      <td>4</td>\n      <td>0</td>\n      <td>37</td>\n      <td>4</td>\n      <td>562</td>\n      <td>1</td>\n      <td>5</td>\n      <td>...</td>\n      <td>4.0</td>\n      <td>0.035919</td>\n      <td>0.071838</td>\n      <td>1.0</td>\n      <td>0.191040</td>\n      <td>37326.816406</td>\n      <td>4</td>\n      <td>31</td>\n      <td>3</td>\n      <td>3</td>\n    </tr>\n  </tbody>\n</table>\n<p>5 rows × 32 columns</p>\n</div>"
     },
     "metadata": {},
     "output_type": "execute_result",
     "execution_count": 77
    }
   ],
   "source": [
    "train_x.head()"
   ],
   "metadata": {
    "collapsed": false,
    "pycharm": {
     "name": "#%%\n",
     "is_executing": false
    }
   }
  },
  {
   "cell_type": "code",
   "execution_count": 91,
   "outputs": [],
   "source": [
    "dates_to_consider = train_x[\"date_block_num\"].isin([27, 28, 29, 30, 31, 32])\n",
    "# That is how we get target for the 2nd level dataset\n",
    "y_train_level2 = train_y[dates_to_consider]"
   ],
   "metadata": {
    "collapsed": false,
    "pycharm": {
     "name": "#%%\n",
     "is_executing": false
    }
   }
  },
  {
   "cell_type": "code",
   "execution_count": 95,
   "outputs": [
    {
     "name": "stdout",
     "text": [
      "27\n",
      "Last index: 0, pred_number: 257372\n",
      "28\n",
      "Last index: 257372, pred_number: 232452\n",
      "29\n",
      "Last index: 489824, pred_number: 224288\n",
      "30\n",
      "Last index: 714112, pred_number: 228889\n",
      "31\n",
      "Last index: 943001, pred_number: 214536\n",
      "32\n",
      "Last index: 1157537, pred_number: 218655\n",
      "Wall time: 15min 35s\n"
     ],
     "output_type": "stream"
    }
   ],
   "source": [
    "%%time\n",
    "# And here we create 2nd level feeature matrix, init it with zeros first\n",
    "X_train_level2 = np.zeros([y_train_level2.shape[0], number_of_model])\n",
    "last_index = 0\n",
    "\n",
    "# Now fill `X_train_level2` with metafeatures\n",
    "for cur_block_num in [27, 28, 29, 30, 31, 32]:\n",
    "    \n",
    "    print(cur_block_num)\n",
    "    \n",
    "    '''\n",
    "        1. Split `X_train` into parts\n",
    "           Remember, that corresponding dates are stored in `dates_train` \n",
    "        2. Fit linear regression \n",
    "        3. Fit LightGBM and put predictions          \n",
    "        4. Store predictions from 2. and 3. in the right place of `X_train_level2`. \n",
    "           You can use `dates_train_level2` for it\n",
    "           Make sure the order of the meta-features is the same as in `X_test_level2`\n",
    "    '''      \n",
    "    date_filter = train_x[\"date_block_num\"] < cur_block_num\n",
    "    x_train_M = train_x[date_filter]\n",
    "    y_train_M = train_y[date_filter]\n",
    "    x_test_M = train_x[train_x[\"date_block_num\"].isin([cur_block_num])]\n",
    "    pred_number = len(x_test_M)\n",
    "    print(\"Last index: {}, pred_number: {}\".format(last_index, pred_number))\n",
    "    \n",
    "    lr = trainLR(x_train_M, y_train_M)\n",
    "    pred_lr = lr.predict(x_test_M.fillna(0).values).clip(0, 20)\n",
    "    X_train_level2[last_index:(last_index + pred_number), 0] = pred_lr\n",
    "    \n",
    "    xgb = trainXGBoost(x_train_M, y_train_M, n_estimators=10)\n",
    "    pred_lgb = xgb.predict(x_test_M).clip(0, 20)\n",
    "    X_train_level2[last_index:(last_index + pred_number), 1] = pred_lgb\n",
    "    \n",
    "    last_index = pred_number + last_index\n",
    "    "
   ],
   "metadata": {
    "collapsed": false,
    "pycharm": {
     "name": "#%%\n",
     "is_executing": false
    }
   }
  },
  {
   "cell_type": "code",
   "execution_count": 96,
   "outputs": [
    {
     "data": {
      "text/plain": "<matplotlib.collections.PathCollection at 0x26c0dfea940>"
     },
     "metadata": {},
     "output_type": "execute_result",
     "execution_count": 96
    },
    {
     "data": {
      "text/plain": "<Figure size 432x288 with 1 Axes>",
      "image/png": "[encoded data removed]"
     },
     "metadata": {
      "needs_background": "light"
     },
     "output_type": "display_data"
    }
   ],
   "source": [
    "plt.scatter(X_train_level2[:, 0], X_train_level2[:, 1])\n"
   ],
   "metadata": {
    "collapsed": false,
    "pycharm": {
     "name": "#%%\n",
     "is_executing": false
    }
   }
  },
  {
   "cell_type": "code",
   "execution_count": 97,
   "outputs": [
    {
     "name": "stdout",
     "text": [
      "Best alpha: 1.000000; Corresponding r2 score on train: 0.715685\n"
     ],
     "output_type": "stream"
    }
   ],
   "source": [
    "\n",
    "alphas_to_try = np.linspace(0, 1, 1001)\n",
    "\n",
    "results = []\n",
    "for alpha in alphas_to_try:\n",
    "    lr_predictions = X_train_level2[:, 0]\n",
    "    xgboost_predictions = X_train_level2[:, 1]\n",
    "    pred = alpha * xgboost_predictions + ((1 - alpha) * lr_predictions)\n",
    "    score_res = getRMSE(y_train_level2, pred)\n",
    "    results.append([alpha, score_res])\n",
    "    \n",
    "\n",
    "res_array = np.asarray(results)\n",
    "best_index = np.argmin(res_array[:, 1])\n",
    "best_alpha = res_array[best_index, 0]\n",
    "r2_train_simple_mix = res_array[best_index, 1]\n",
    "\n",
    "print('Best alpha: %f; Corresponding r2 score on train: %f' % (best_alpha, r2_train_simple_mix))\n",
    "# prima qua faceva 0.7156"
   ],
   "metadata": {
    "collapsed": false,
    "pycharm": {
     "name": "#%%\n",
     "is_executing": false
    }
   }
  },
  {
   "cell_type": "code",
   "execution_count": 98,
   "outputs": [
    {
     "data": {
      "text/plain": "LinearRegression()"
     },
     "metadata": {},
     "output_type": "execute_result",
     "execution_count": 98
    }
   ],
   "source": [
    "lr_stack = LinearRegression()\n",
    "lr_stack.fit(X_train_level2, y_train_level2)"
   ],
   "metadata": {
    "collapsed": false,
    "pycharm": {
     "name": "#%%\n",
     "is_executing": false
    }
   }
  },
  {
   "cell_type": "code",
   "execution_count": 99,
   "outputs": [
    {
     "name": "stdout",
     "text": [
      "Train R-squared for stacking is 0.650531\n"
     ],
     "output_type": "stream"
    }
   ],
   "source": [
    "train_preds = lr_stack.predict(X_train_level2)\n",
    "r2_train_stacking = getRMSE(y_train_level2, train_preds)\n",
    "\n",
    "print('Train R-squared for stacking is %f' % r2_train_stacking)\n",
    "\n",
    "# prima qua faceva 0.65069"
   ],
   "metadata": {
    "collapsed": false,
    "pycharm": {
     "name": "#%%\n",
     "is_executing": false
    }
   }
  },
  {
   "cell_type": "code",
   "execution_count": 109,
   "outputs": [
    {
     "name": "stdout",
     "text": [
      "[0]\tvalidation_0-rmse:1.17824\tvalidation_1-rmse:1.11808\n",
      "[1]\tvalidation_0-rmse:1.12326\tvalidation_1-rmse:1.08090\n",
      "[2]\tvalidation_0-rmse:1.07854\tvalidation_1-rmse:1.04858\n",
      "[3]\tvalidation_0-rmse:1.04514\tvalidation_1-rmse:1.02205\n",
      "[4]\tvalidation_0-rmse:1.01694\tvalidation_1-rmse:1.00391\n",
      "[5]\tvalidation_0-rmse:0.98735\tvalidation_1-rmse:0.98535\n",
      "[6]\tvalidation_0-rmse:0.96416\tvalidation_1-rmse:0.97020\n",
      "[7]\tvalidation_0-rmse:0.94503\tvalidation_1-rmse:0.95805\n",
      "[8]\tvalidation_0-rmse:0.92828\tvalidation_1-rmse:0.94900\n",
      "[9]\tvalidation_0-rmse:0.91393\tvalidation_1-rmse:0.94011\n",
      "[10]\tvalidation_0-rmse:0.89921\tvalidation_1-rmse:0.93351\n",
      "[11]\tvalidation_0-rmse:0.88733\tvalidation_1-rmse:0.92853\n",
      "[12]\tvalidation_0-rmse:0.87790\tvalidation_1-rmse:0.92266\n",
      "[13]\tvalidation_0-rmse:0.86954\tvalidation_1-rmse:0.91815\n",
      "[14]\tvalidation_0-rmse:0.86150\tvalidation_1-rmse:0.91481\n",
      "[15]\tvalidation_0-rmse:0.85460\tvalidation_1-rmse:0.91250\n",
      "[16]\tvalidation_0-rmse:0.85010\tvalidation_1-rmse:0.91111\n",
      "[17]\tvalidation_0-rmse:0.84472\tvalidation_1-rmse:0.90941\n",
      "[18]\tvalidation_0-rmse:0.83923\tvalidation_1-rmse:0.90684\n",
      "[19]\tvalidation_0-rmse:0.83539\tvalidation_1-rmse:0.90556\n",
      "[20]\tvalidation_0-rmse:0.83057\tvalidation_1-rmse:0.90494\n",
      "[21]\tvalidation_0-rmse:0.82730\tvalidation_1-rmse:0.90370\n",
      "[22]\tvalidation_0-rmse:0.82300\tvalidation_1-rmse:0.90410\n",
      "[23]\tvalidation_0-rmse:0.81988\tvalidation_1-rmse:0.90358\n",
      "[24]\tvalidation_0-rmse:0.81752\tvalidation_1-rmse:0.90354\n",
      "[25]\tvalidation_0-rmse:0.81525\tvalidation_1-rmse:0.90314\n",
      "[26]\tvalidation_0-rmse:0.81242\tvalidation_1-rmse:0.90290\n",
      "[27]\tvalidation_0-rmse:0.81006\tvalidation_1-rmse:0.90221\n",
      "[28]\tvalidation_0-rmse:0.80736\tvalidation_1-rmse:0.90294\n",
      "[29]\tvalidation_0-rmse:0.80507\tvalidation_1-rmse:0.90276\n",
      "[30]\tvalidation_0-rmse:0.80251\tvalidation_1-rmse:0.90143\n",
      "[31]\tvalidation_0-rmse:0.80048\tvalidation_1-rmse:0.90127\n",
      "[32]\tvalidation_0-rmse:0.79853\tvalidation_1-rmse:0.90054\n",
      "[33]\tvalidation_0-rmse:0.79699\tvalidation_1-rmse:0.90008\n",
      "[34]\tvalidation_0-rmse:0.79536\tvalidation_1-rmse:0.89962\n",
      "[35]\tvalidation_0-rmse:0.79381\tvalidation_1-rmse:0.89946\n",
      "[36]\tvalidation_0-rmse:0.79270\tvalidation_1-rmse:0.89908\n",
      "[37]\tvalidation_0-rmse:0.79161\tvalidation_1-rmse:0.89932\n",
      "[38]\tvalidation_0-rmse:0.79025\tvalidation_1-rmse:0.89921\n",
      "[39]\tvalidation_0-rmse:0.78887\tvalidation_1-rmse:0.89903\n",
      "[40]\tvalidation_0-rmse:0.78781\tvalidation_1-rmse:0.89913\n",
      "[41]\tvalidation_0-rmse:0.78667\tvalidation_1-rmse:0.89900\n",
      "[42]\tvalidation_0-rmse:0.78574\tvalidation_1-rmse:0.89889\n",
      "[43]\tvalidation_0-rmse:0.78460\tvalidation_1-rmse:0.89867\n",
      "[44]\tvalidation_0-rmse:0.78382\tvalidation_1-rmse:0.89870\n",
      "[45]\tvalidation_0-rmse:0.78275\tvalidation_1-rmse:0.89846\n",
      "[46]\tvalidation_0-rmse:0.78130\tvalidation_1-rmse:0.89826\n",
      "[47]\tvalidation_0-rmse:0.78034\tvalidation_1-rmse:0.89809\n",
      "[48]\tvalidation_0-rmse:0.77970\tvalidation_1-rmse:0.89783\n",
      "[49]\tvalidation_0-rmse:0.77898\tvalidation_1-rmse:0.89764\n",
      "[50]\tvalidation_0-rmse:0.77771\tvalidation_1-rmse:0.89754\n",
      "[51]\tvalidation_0-rmse:0.77704\tvalidation_1-rmse:0.89749\n",
      "[52]\tvalidation_0-rmse:0.77573\tvalidation_1-rmse:0.89781\n",
      "[53]\tvalidation_0-rmse:0.77467\tvalidation_1-rmse:0.89768\n",
      "[54]\tvalidation_0-rmse:0.77407\tvalidation_1-rmse:0.89762\n",
      "[55]\tvalidation_0-rmse:0.77354\tvalidation_1-rmse:0.89748\n",
      "[56]\tvalidation_0-rmse:0.77228\tvalidation_1-rmse:0.89684\n",
      "[57]\tvalidation_0-rmse:0.77140\tvalidation_1-rmse:0.89668\n",
      "[58]\tvalidation_0-rmse:0.77039\tvalidation_1-rmse:0.89644\n",
      "[59]\tvalidation_0-rmse:0.76957\tvalidation_1-rmse:0.89638\n",
      "[60]\tvalidation_0-rmse:0.76867\tvalidation_1-rmse:0.89689\n",
      "[61]\tvalidation_0-rmse:0.76806\tvalidation_1-rmse:0.89666\n",
      "[62]\tvalidation_0-rmse:0.76756\tvalidation_1-rmse:0.89659\n",
      "[63]\tvalidation_0-rmse:0.76707\tvalidation_1-rmse:0.89652\n",
      "[64]\tvalidation_0-rmse:0.76619\tvalidation_1-rmse:0.89677\n",
      "[65]\tvalidation_0-rmse:0.76577\tvalidation_1-rmse:0.89676\n",
      "[66]\tvalidation_0-rmse:0.76491\tvalidation_1-rmse:0.89738\n",
      "[67]\tvalidation_0-rmse:0.76422\tvalidation_1-rmse:0.89730\n",
      "[68]\tvalidation_0-rmse:0.76365\tvalidation_1-rmse:0.89722\n",
      "[69]\tvalidation_0-rmse:0.76291\tvalidation_1-rmse:0.89735\n"
     ],
     "output_type": "stream"
    }
   ],
   "source": [
    "xgb_complete_train = trainXGBoost(train_x, train_y, valid_x, valid_y, n_estimators=1000)\n",
    "test_predict_xgb = xgb_complete_train.predict(valid_x)"
   ],
   "metadata": {
    "collapsed": false,
    "pycharm": {
     "name": "#%%\n",
     "is_executing": false
    }
   }
  },
  {
   "cell_type": "code",
   "execution_count": 110,
   "outputs": [],
   "source": [
    "lr_complete = trainLR(train_x.fillna(0), train_y)\n",
    "test_predict_lr = lr_complete.predict(valid_x.fillna(0))"
   ],
   "metadata": {
    "collapsed": false,
    "pycharm": {
     "name": "#%%\n",
     "is_executing": false
    }
   }
  },
  {
   "cell_type": "code",
   "execution_count": 123,
   "outputs": [
    {
     "data": {
      "text/plain": "LinearRegression()"
     },
     "metadata": {},
     "output_type": "execute_result",
     "execution_count": 123
    }
   ],
   "source": [
    "test_predict_xgb = xgb_complete_train.predict(valid_x).clip(0, 20)\n",
    "test_predict_lr = lr_complete.predict(valid_x.fillna(0)).clip(0, 20)\n",
    "concateated_predictions = np.c_[test_predict_lr, test_predict_xgb]\n",
    "\n",
    "lr_stack_train = LinearRegression()\n",
    "lr_stack_train.fit(concateated_predictions, valid_y)"
   ],
   "metadata": {
    "collapsed": false,
    "pycharm": {
     "name": "#%%\n",
     "is_executing": false
    }
   }
  },
  {
   "cell_type": "code",
   "execution_count": 124,
   "outputs": [
    {
     "name": "stdout",
     "text": [
      "Test  R-squared for stacking is 0.954803\n"
     ],
     "output_type": "stream"
    }
   ],
   "source": [
    "valid_preds = lr_stack.predict(np.c_[test_predict_lr, test_predict_xgb])\n",
    "r2_test_stacking = getRMSE(valid_y, valid_preds)\n",
    "\n",
    "test_predict_xgb = xgb_complete_train.predict(test_x).clip(0, 20)\n",
    "test_predict_lr = lr_complete.predict(test_x.fillna(0)).clip(0, 20)\n",
    "test_preds = lr_stack_train.predict(np.c_[test_predict_lr, test_predict_xgb])\n",
    "\n",
    "ensambling_result = test_x.copy()\n",
    "ensambling_result[\"ID\"] = range(len(ensambling_result))\n",
    "ensambling_result[\"item_cnt_month\"] = test_preds.clip(max=20, min=0)\n",
    "createSubmissionFile(ensambling_result, \"lr_xgb_stacking_0_20_validation_out_validation_stacking.csv\")\n",
    "\n",
    "print('Test  R-squared for stacking is %f' % r2_test_stacking)\n",
    "# prima Test  R-squared for stacking is 0.970194"
   ],
   "metadata": {
    "collapsed": false,
    "pycharm": {
     "name": "#%%\n",
     "is_executing": false
    }
   }
  },
  {
   "cell_type": "code",
   "execution_count": 126,
   "outputs": [],
   "source": [
    "xgb_complete = trainXGBoost(all_train_x, all_train_y, n_estimators=60)\n",
    "test_predict_xgb = xgb_complete.predict(test_x).clip(0, 20)"
   ],
   "metadata": {
    "collapsed": false,
    "pycharm": {
     "name": "#%%\n",
     "is_executing": false
    }
   }
  },
  {
   "cell_type": "code",
   "execution_count": 127,
   "outputs": [],
   "source": [
    "lr_complete = trainLR(all_train_x, all_train_y)\n",
    "test_predict_lr = lr_complete.predict(test_x.fillna(0)).clip(0, 20)"
   ],
   "metadata": {
    "collapsed": false,
    "pycharm": {
     "name": "#%%\n",
     "is_executing": false
    }
   }
  },
  {
   "cell_type": "code",
   "execution_count": 128,
   "outputs": [
    {
     "data": {
      "text/plain": "LinearRegression()"
     },
     "metadata": {},
     "output_type": "execute_result",
     "execution_count": 128
    }
   ],
   "source": [
    "all_train_predict_xgb = xgb_complete.predict(all_train_x).clip(0, 20)\n",
    "all_train_predict_lr = lr_complete.predict(all_train_x.fillna(0)).clip(0, 20)\n",
    "concateated_predictions = np.c_[all_train_predict_lr, all_train_predict_xgb]\n",
    "\n",
    "lr_stack_all_train = LinearRegression()\n",
    "lr_stack_all_train.fit(concateated_predictions, all_train_y)"
   ],
   "metadata": {
    "collapsed": false,
    "pycharm": {
     "name": "#%%\n",
     "is_executing": false
    }
   }
  },
  {
   "cell_type": "code",
   "execution_count": 129,
   "outputs": [],
   "source": [
    "test_preds = lr_stack_all_train.predict(np.c_[test_predict_lr, test_predict_xgb])"
   ],
   "metadata": {
    "collapsed": false,
    "pycharm": {
     "name": "#%%\n",
     "is_executing": false
    }
   }
  },
  {
   "cell_type": "code",
   "execution_count": 130,
   "outputs": [],
   "source": [
    "ensambling_result = test_x.copy()\n",
    "ensambling_result[\"ID\"] = range(len(ensambling_result))\n",
    "ensambling_result[\"item_cnt_month\"] = test_preds.clip(max=20, min=0)\n",
    "createSubmissionFile(ensambling_result, \"lr_xgb_stacking_0_20_retrained_stacking.csv\")\n"
   ],
   "metadata": {
    "collapsed": false,
    "pycharm": {
     "name": "#%%\n",
     "is_executing": false
    }
   }
  },
  {
   "cell_type": "code",
   "execution_count": 74,
   "outputs": [
    {
     "data": {
      "text/plain": "<AxesSubplot:title={'center':'Feature importance'}, xlabel='F score', ylabel='Features'>"
     },
     "metadata": {},
     "output_type": "execute_result",
     "execution_count": 74
    },
    {
     "data": {
      "text/plain": "<Figure size 720x1008 with 1 Axes>",
      "image/png": "[encoded data removed]"
     },
     "metadata": {
      "needs_background": "light"
     },
     "output_type": "display_data"
    }
   ],
   "source": [
    "from xgboost import plot_importance\n",
    "\n",
    "def plot_features(booster, figsize):    \n",
    "    fig, ax = plt.subplots(1,1,figsize=figsize)\n",
    "    return plot_importance(booster=booster, ax=ax)\n",
    "\n",
    "plot_features(xgb_complete_train, (10,14))"
   ],
   "metadata": {
    "collapsed": false,
    "pycharm": {
     "name": "#%%\n",
     "is_executing": false
    }
   }
  },
  {
   "cell_type": "code",
   "execution_count": 75,
   "outputs": [],
   "source": [
    "final_test_predict_xgb = xgb_complete_train.predict(test_x)\n",
    "\n",
    "xgb_no_valid_result = test_x.copy()\n",
    "xgb_no_valid_result[\"ID\"] = range(len(xgb_no_valid_result))\n",
    "xgb_no_valid_result[\"item_cnt_month\"] = final_test_predict_xgb.clip(max=20, min=0)\n",
    "createSubmissionFile(xgb_no_valid_result, \"xgb_no_valid.csv\")"
   ],
   "metadata": {
    "collapsed": false,
    "pycharm": {
     "name": "#%%\n",
     "is_executing": false
    }
   }
  },
  {
   "cell_type": "code",
   "execution_count": null,
   "outputs": [],
   "source": [
    "\n"
   ],
   "metadata": {
    "collapsed": false,
    "pycharm": {
     "name": "#%%\n"
    }
   }
  }
 ],
 "metadata": {
  "kernelspec": {
   "display_name": "Python 3",
   "language": "python",
   "name": "python3"
  },
  "language_info": {
   "codemirror_mode": {
    "name": "ipython",
    "version": 2
   },
   "file_extension": ".py",
   "mimetype": "text/x-python",
   "name": "python",
   "nbconvert_exporter": "python",
   "pygments_lexer": "ipython2",
   "version": "2.7.6"
  },
  "pycharm": {
   "stem_cell": {
    "cell_type": "raw",
    "source": [],
    "metadata": {
     "collapsed": false
    }
   }
  }
 },
 "nbformat": 4,
 "nbformat_minor": 0
}